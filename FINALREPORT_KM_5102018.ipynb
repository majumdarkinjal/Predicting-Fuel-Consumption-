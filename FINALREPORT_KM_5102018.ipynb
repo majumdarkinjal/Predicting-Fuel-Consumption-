{
 "cells": [
  {
   "cell_type": "markdown",
   "metadata": {},
   "source": [
    "\n",
    "#### Group Members:\n",
    "Kinjal  \n",
    "Tim  \n",
    "Doris  \n",
    "Zuqi  \n",
    "Tania  "
   ]
  },
  {
   "cell_type": "markdown",
   "metadata": {},
   "source": [
    "# I. Data Sources and Justificiation\n",
    "The report is expected to begin with a description of the data sources used (at least two core data resources). The participants should describe:\n",
    "\n",
    "1 Why the data is of interest (what is the purpose of this report?)  \n",
    "2 Where the data was obtained  \n",
    "3 Any associated methodologies that might be of interest for the report  \n",
    "4 How do data resources relate to one another? \n",
    "  \n",
    "This section is worth 30% of the total grade.  It will be marked on completeness, on the quality of the written product, on the suitability of the data resources used, the use of secondary data resources (such as the ISO national codes) and the complexity of the data resource.\n"
   ]
  },
  {
   "cell_type": "markdown",
   "metadata": {},
   "source": [
    "***\n",
    "# II. Data Model and Implementation\n",
    "***"
   ]
  },
  {
   "cell_type": "markdown",
   "metadata": {},
   "source": [
    "#### (a) Creating and connecting to the database:\n",
    "The database was created through the GUI interface pgAdmin4. A json file was used to connect to the database in postgres. Edit the json file (username and password) to make a successful connection. "
   ]
  },
  {
   "cell_type": "code",
   "execution_count": 2,
   "metadata": {},
   "outputs": [],
   "source": [
    "#Importing all necessary packages and tools\n",
    "import json        \n",
    "import csv\n",
    "import re\n",
    "import psycopg2\n",
    "\n",
    "#Opening the connection string stored in a json file\n",
    "with open(\"/Users/Kinjal Majumdar/awsconnect.json\") as f:\n",
    "    data = json.load(f)\n",
    "conn = psycopg2.connect(**data)\n",
    "cur = conn.cursor()"
   ]
  },
  {
   "cell_type": "markdown",
   "metadata": {},
   "source": [
    "#### (b) Creating the schema:"
   ]
  },
  {
   "cell_type": "code",
   "execution_count": 3,
   "metadata": {},
   "outputs": [],
   "source": [
    "conn.rollback()\n",
    "cur.execute(\"\"\"CREATE SCHEMA auto AUTHORIZATION postgres\"\"\")\n",
    "conn.commit()\n",
    "#enter your postgres username where user_name is mentioned"
   ]
  },
  {
   "cell_type": "markdown",
   "metadata": {},
   "source": [
    "#### (c) Creating the basic table structure\n",
    "In this step, all temporary and permanent tables (except for the three connecting main tables: fuel_consumption, sales, car) are created. The temporary tables have the same structure as the data files that are used in the following step to populate the database. They help us work with the data inside the database and are necessary for reference when connecting the permanenet tables. The smaller tables (brand, model, type, transmission, drive, fuel, segment) are created to store data from the temporary files. "
   ]
  },
  {
   "cell_type": "code",
   "execution_count": 4,
   "metadata": {},
   "outputs": [],
   "source": [
    "conn.rollback() #undoing all changes from the current transaction\n",
    "\n",
    "basicstructure = \"\"\"\n",
    "\n",
    "CREATE TABLE auto.brand(  brandid SERIAL             PRIMARY KEY,\n",
    "                              make CHARACTER VARYING);\n",
    "\t\t\t\t\t\t\t  \n",
    "CREATE TABLE auto.model(  modelid SERIAL             PRIMARY KEY,\n",
    "                              model CHARACTER VARYING);\n",
    "\t\t\t\t\t\t\t  \n",
    "CREATE TABLE auto.type(  typeid SERIAL         PRIMARY KEY,\n",
    "                            model_type CHARACTER VARYING);\n",
    "\t\t\t\t\t\t\t\n",
    "CREATE TABLE auto.transmission(  transid SERIAL         PRIMARY KEY,\n",
    "                            transmission CHARACTER VARYING);\t\n",
    "\t\t\t\t\t\t\t\n",
    "CREATE TABLE auto.drive(  driveid SERIAL         PRIMARY KEY,\n",
    "                            drive CHARACTER VARYING);\n",
    "\t\t\t\t\t\t\t\n",
    "CREATE TABLE auto.fuel(  fuelid SERIAL         PRIMARY KEY,\n",
    "                            fuel CHARACTER VARYING);\n",
    "\t\t\t\t\t\t\t\n",
    "CREATE TABLE auto.segment(  segid SERIAL         PRIMARY KEY,\n",
    "                            segment CHARACTER VARYING);\t\t\t\t\t\t\t\n",
    "\n",
    "\n",
    "CREATE TABLE auto.temporary_sales (\n",
    "\t\t\t\t\t\t\tmake CHARACTER VARYING,\n",
    "\t\t\t\t\t\t\tmodel CHARACTER VARYING,\n",
    "\t\t\t\t\t\t\tmodel_type CHARACTER VARYING,\n",
    "\t\t\t\t\t\t\tsales CHARACTER VARYING,\n",
    "\t\t\t\t\t\t\tcalendar_year INTEGER); /* CHANGED IT TO INTEGER */\n",
    "\t\t\t\t\t\t\t\n",
    "CREATE TABLE auto.temporary_fuel_economy ( \n",
    "\t\t\t\t\t\t\tmake CHARACTER VARYING,\n",
    "\t\t\t\t\t\t\tmodel CHARACTER VARYING,\n",
    "\t\t\t\t\t\t\tmodel_type CHARACTER VARYING,\n",
    "\t\t\t\t\t\t\ttransmission CHARACTER VARYING,\n",
    "\t\t\t\t\t\t\tdrive CHARACTER VARYING,\n",
    "\t\t\t\t\t\t\tfuel CHARACTER VARYING,\n",
    "\t\t\t\t\t\t\tsegment CHARACTER VARYING,\n",
    "\t\t\t\t\t\t\tfuel_economy INTEGER,  /* CHANGED IT TO INTEGER */\n",
    "\t\t\t\t\t\t\tcalendar_year INTEGER\n",
    "\t\t\t\t\t\t\t);\n",
    "                       \"\"\"\n",
    "cur.execute(basicstructure)\n",
    "conn.commit() #Committing to all the data changes made in this particular query"
   ]
  },
  {
   "cell_type": "markdown",
   "metadata": {},
   "source": [
    "#### (d) Populating temporary tables with data from csv files\n",
    "In this step, the csv files are imported and the data is inserted into the temporary tables (temporary_fuel_economy, temporary_sales). The structure of the temporary tables matches that of the csv files. "
   ]
  },
  {
   "cell_type": "code",
   "execution_count": 5,
   "metadata": {},
   "outputs": [],
   "source": [
    "# Enter your file path into the variables 'file_path_fuel_economy' and 'file_path_Sales'. \n",
    "# Please ensure that you are using a forward slash to separate each folder\n",
    "\n",
    "file_path_fuel_economy = '/Users/Kinjal Majumdar/Downloads/fuel_economy.csv'\n",
    "file_path_Sales = '/Users/Kinjal Majumdar/Downloads/Sales.csv'"
   ]
  },
  {
   "cell_type": "code",
   "execution_count": 6,
   "metadata": {},
   "outputs": [],
   "source": [
    "# Inserting data into temporary_fuel_economy #ADD VARIABLE FOR FILES\n",
    "insertfueleconomy = '''INSERT INTO auto.temporary_fuel_economy VALUES(%s,%s,%s,%s,%s,%s,%s,%s,%s)'''\n",
    "\n",
    "with open(file_path_fuel_economy,'r') as temp:\n",
    "    inputdata = csv.reader(temp)\n",
    "    next(inputdata)\n",
    "    for rows in inputdata:\n",
    "        cur.execute(insertfueleconomy,rows)\n",
    "        conn.commit()"
   ]
  },
  {
   "cell_type": "code",
   "execution_count": 7,
   "metadata": {},
   "outputs": [],
   "source": [
    "# Inserting data into temporary_sales\n",
    "insertsales = '''INSERT INTO auto.temporary_sales VALUES(%s,%s,%s,%s,%s)'''\n",
    "\n",
    "with open(file_path_Sales,'r') as temp:\n",
    "    inputdata = csv.reader(temp)\n",
    "    next(inputdata)\n",
    "    for rows in inputdata:\n",
    "        cur.execute(insertsales,rows)\n",
    "        conn.commit()"
   ]
  },
  {
   "cell_type": "markdown",
   "metadata": {},
   "source": [
    "#### (e) Populating permanent tables with data from temporary tables\n",
    "The data from temporary tables is inserted into permanent tables. This step helps us normalize the data and create unique ID's for the tables make, model, type, drive, fuel, transmission and segment. The permanent tables contain all unique data from BOTH the temporary sales and the temporary fuel consumption tables. This is necessary, because there are a few cars that only appear in one of the tables."
   ]
  },
  {
   "cell_type": "code",
   "execution_count": 8,
   "metadata": {},
   "outputs": [],
   "source": [
    "conn.rollback()\n",
    "cur.execute(\"\"\"\n",
    "            INSERT INTO auto.brand(make) \n",
    "            SELECT DISTINCT upper(make)\n",
    "            FROM auto.temporary_sales;\n",
    "            \n",
    "            INSERT INTO auto.brand(make) \n",
    "            SELECT DISTINCT upper(make)\n",
    "            FROM auto.temporary_fuel_economy  fe \n",
    "            WHERE upper(fe.make) NOT IN (SELECT make from auto.brand);\n",
    "            \n",
    "            INSERT INTO auto.model(model)\n",
    "            SELECT DISTINCT upper(model)\n",
    "            FROM auto.temporary_sales;\n",
    "            \n",
    "            INSERT INTO auto.model(model) \n",
    "            SELECT DISTINCT upper(model)\n",
    "            FROM auto.temporary_fuel_economy  fe\n",
    "            WHERE upper(fe.model) NOT IN (SELECT model from auto.model);\n",
    "            \n",
    "            INSERT INTO auto.type(model_type)\n",
    "            SELECT DISTINCT upper(model_type)\n",
    "            FROM auto.temporary_sales;\n",
    "            \n",
    "            INSERT INTO auto.type(model_type) \n",
    "            SELECT DISTINCT upper(model_type)\n",
    "            FROM auto.temporary_fuel_economy  fe\n",
    "            WHERE upper(fe.model_type) NOT IN (SELECT model_type from auto.type);\n",
    "            \n",
    "            INSERT INTO auto.drive(drive)\n",
    "            SELECT DISTINCT upper(drive)\n",
    "            FROM auto.temporary_fuel_economy;\n",
    "            \n",
    "            INSERT INTO auto.fuel(fuel)\n",
    "            SELECT DISTINCT upper(fuel)\n",
    "            FROM auto.temporary_fuel_economy;\n",
    "            \n",
    "            INSERT INTO auto.transmission(transmission)\n",
    "            SELECT DISTINCT upper(transmission)\n",
    "            FROM auto.temporary_fuel_economy;\n",
    "            \n",
    "            INSERT INTO auto.segment(segment)\n",
    "            SELECT DISTINCT upper(segment)\n",
    "            FROM auto.temporary_fuel_economy;\n",
    "            \"\"\")\n",
    "conn.commit()"
   ]
  },
  {
   "cell_type": "markdown",
   "metadata": {},
   "source": [
    "#### (f) Additional data cleaning: Removing spaces\n",
    "When inserting the data, we realized that there are additional spaces in the model table. These are removed by the following query:"
   ]
  },
  {
   "cell_type": "code",
   "execution_count": 9,
   "metadata": {},
   "outputs": [],
   "source": [
    "conn.rollback()\n",
    "cur.execute(\"\"\"select distinct(\n",
    "            replace(model, ' ', '')) as model\n",
    "            from auto.model\n",
    "            group by model\"\"\")\n",
    "conn.commit()"
   ]
  },
  {
   "cell_type": "markdown",
   "metadata": {},
   "source": [
    "#### (g) Create and populate the car table:\n",
    "This table stores all of the unique cars, defined by its make, model, type, drive, transmission, fuel and segment. However, instead of storing the actual make, model etc. each column contains an ID that is linked to the smaller tables that were created in the last step.  "
   ]
  },
  {
   "cell_type": "code",
   "execution_count": 10,
   "metadata": {},
   "outputs": [],
   "source": [
    "conn.rollback()\n",
    "cur.execute(\"\"\"\n",
    "\n",
    "CREATE TABLE auto.car(  car_ID SERIAL             PRIMARY KEY,\n",
    "                            brand_ID \t\t\t\tINTEGER REFERENCES auto.brand, \n",
    "\t\t\t\t\t        model_ID \t\t\t\tINTEGER REFERENCES auto.model,\n",
    "                            type_ID \t\t\t\tINTEGER REFERENCES auto.type,\n",
    "                            transmission_ID \t\tINTEGER REFERENCES auto.transmission,\n",
    "                            drive_ID \t\t\t\tINTEGER REFERENCES auto.drive,\n",
    "                            fuel_ID \t\t\t\tINTEGER REFERENCES auto.fuel,\n",
    "\t\t\t\t\t        segment_ID \t\t\t\tINTEGER REFERENCES auto.segment\n",
    "                            \n",
    "                           );\n",
    "\n",
    "INSERT INTO auto.car (brand_ID, model_ID, type_ID, transmission_ID, drive_ID,fuel_ID, segment_ID)\n",
    "\n",
    "select distinct master_table.brandid as brand_ID, \n",
    "master_table.modelid as model_ID, \n",
    "master_table.typeid as type_ID, \n",
    "master_table.transid as transmission_ID, \n",
    "master_table.driveid as drive_ID,\n",
    "master_table.fuelid as fuel_ID,\n",
    "master_table.segid as segment_ID\n",
    "from (auto.temporary_fuel_economy\n",
    "\t  \n",
    "\n",
    "full join auto.model\n",
    "on upper(temporary_fuel_economy.model) = upper(model.model)\n",
    "\n",
    "full join auto.brand\n",
    "on upper(temporary_fuel_economy.make) = upper(brand.make)\n",
    "\n",
    "full join auto.type\n",
    "on upper(temporary_fuel_economy.model_type) = upper(type.model_type)\n",
    "\n",
    "full join auto.transmission\n",
    "on upper(temporary_fuel_economy.transmission) = upper(transmission.transmission)\n",
    "\n",
    "full join auto.drive\n",
    "on upper(temporary_fuel_economy.drive) = upper(drive.drive)\n",
    "\n",
    "full join auto.fuel\n",
    "on upper(temporary_fuel_economy.fuel) = upper(fuel.fuel)\n",
    "\n",
    "full join auto.segment\n",
    "on upper(temporary_fuel_economy.segment)= upper(segment.segment)) as master_table\n",
    "\t\t\t\t\t\t\t\t\t\t\t\t\n",
    "order by brand_id ASC\"\"\")\n",
    "conn.commit()"
   ]
  },
  {
   "cell_type": "markdown",
   "metadata": {},
   "source": [
    "#### (h) Creating a temporary master table for joining the car table with fuel_consumption and sales \n",
    "This table helps us connect the car table, which only includes ID's and not the actual data that describes each car, with the fuel consumption and the sales table. This temporary table is not necessary to populate the other tables but it serves as a reference and helps us check if the data is inserted and connected correctly in the database. "
   ]
  },
  {
   "cell_type": "code",
   "execution_count": 11,
   "metadata": {},
   "outputs": [],
   "source": [
    "conn.rollback()\n",
    "cur.execute(\"\"\"\n",
    "CREATE TABLE auto.temp_master(\n",
    "\t\t\t\t\t\t\tcar_ID\t\t\t\t\t\tINTEGER\t\t\t\t\t\tPRIMARY KEY,\n",
    "                            brand_ID \t\t\t\t\tINTEGER\t\t\t\t\t\t, \n",
    "\t\t\t\t\t  \t\tbrand \t\t\t\t\t\tCHARACTER VARYING\t\t\t,\n",
    "\t\t\t\t\t   \t\tmodel_ID \t\t\t\t\tINTEGER\t\t\t\t\t\t,\n",
    "\t\t\t\t\t\t\tmodel \t\t\t\t\t\tCHARACTER VARYING\t\t\t,\n",
    "\t\t\t\t\t\t\tmodeltype_ID \t\t\t\tINTEGER\t\t\t\t\t\t,\n",
    "\t\t\t\t\t\t\tmodeltype \t\t\t\t\tCHARACTER VARYING\t\t\t,\n",
    "\t\t\t\t\t\t\ttransmission_ID \t\t\tINTEGER\t\t\t\t\t\t,\n",
    "\t\t\t\t\t\t\ttransmission \t\t\t\tCHARACTER VARYING\t\t\t,\n",
    "\t\t\t\t\t\t\tdrive_ID \t\t\t\t\tINTEGER\t\t\t\t\t\t,\n",
    "\t\t\t\t\t\t\tdrive \t\t\t\t\t\tCHARACTER VARYING\t\t\t,\n",
    "\t\t\t\t\t\t\tfuel_ID \t\t\t\t\tINTEGER\t\t\t\t\t\t,\n",
    "\t\t\t\t\t\t\tfuel \t\t\t\t\t\tCHARACTER VARYING\t\t\t,\n",
    "\t\t\t\t\t\t\tsegment_ID \t\t\t\t\tINTEGER\t\t\t\t\t\t,\n",
    "\t\t\t\t\t\t\tsegment \t\t\t\t\tCHARACTER VARYING\t\t\t\n",
    "\t\t\t\t\t\t\t );\n",
    "\n",
    "insert into auto.temp_master \n",
    "\n",
    "select ca.car_id, ca.brand_id, br.make as brand, ca.model_id, mo.model, ca.type_id, ty.model_type, \n",
    "ca.transmission_id, tr.transmission, ca.drive_id, dr.drive, ca.fuel_id, fu.fuel, ca.segment_id, se.segment \n",
    "from auto.car ca\n",
    "\n",
    "join auto.brand br\n",
    "on br.brandid =ca.brand_id\n",
    "\n",
    "join auto.model mo\n",
    "on mo.modelid = ca.model_id\n",
    "\n",
    "join auto.type ty\n",
    "on ty.typeid = ca.type_id\n",
    "\n",
    "join auto.transmission tr\n",
    "on tr.transid = ca.transmission_id\n",
    "\n",
    "join auto.drive dr\n",
    "on dr.driveid = ca.drive_id\n",
    "\n",
    "join auto.fuel fu\n",
    "on fu.fuelid = ca.fuel_id\n",
    "\n",
    "join auto.segment se\n",
    "on se.segid = ca.segment_id\"\"\")\n",
    "\n",
    "conn.commit()"
   ]
  },
  {
   "cell_type": "markdown",
   "metadata": {},
   "source": [
    "#### (i) Creating the fuel_consumption table\n",
    "In this step, the fuel_consumption table is created. It stores the fuel economy rating of each vehicle for each year. It is linked to a specific car through the car_ID. The temp_master table is used as a reference to insert the correct values for each car_ID. "
   ]
  },
  {
   "cell_type": "code",
   "execution_count": 12,
   "metadata": {},
   "outputs": [],
   "source": [
    "conn.rollback()\n",
    "cur.execute(\"\"\"CREATE TABLE auto.fuel_consumption(fcid SERIAL             PRIMARY KEY,\n",
    "                       car_ID \t\t\t\t\tINTEGER REFERENCES auto.car, \n",
    "                       calendar_year \t\t\tINTEGER,\n",
    "\t\t\t\t\t   fuel_economy \t\t\tINTEGER);\n",
    "\t\t\t\t\t   \n",
    "insert into auto.fuel_consumption (car_ID, fuel_economy, calendar_year)\n",
    "\n",
    "select temp_master.car_ID, tfe.fuel_economy as f_econ, tfe.calendar_year as cal_yr \n",
    "from auto.temporary_fuel_economy as tfe\n",
    "\n",
    "join auto.temp_master \n",
    "on\n",
    "upper(tfe.make) = upper(temp_master.brand)\n",
    "\n",
    "AND upper(tfe.model) = upper(temp_master.model)\n",
    "AND upper(tfe.model_type) = upper(temp_master.modeltype)\n",
    "AND upper(tfe.transmission) = upper(temp_master.transmission)\n",
    "AND upper(tfe.drive) = upper(temp_master.drive)\n",
    "AND upper(tfe.fuel) = upper(temp_master.fuel)\n",
    "AND upper(tfe.segment) = upper(temp_master.segment)\n",
    "\"\"\")\n",
    "conn.commit()"
   ]
  },
  {
   "cell_type": "markdown",
   "metadata": {},
   "source": [
    "#### (j) Creating the sales table\n",
    "In this step, the sales table is created. It stores the total sales number of each vehicle for each year. It is linked to a specific car through the car_ID. The temp_master table is used as a reference to insert the correct values for each car_ID. Due to the fact that our sales data only specified the make, model and type (not the different transmission, fuel options etc.), the sales table is only joined on those columns. "
   ]
  },
  {
   "cell_type": "code",
   "execution_count": 13,
   "metadata": {},
   "outputs": [],
   "source": [
    "conn.rollback()\n",
    "\n",
    "cur.execute(\"\"\"CREATE TABLE auto.sales (\n",
    "                            sale_id SERIAL PRIMARY KEY,\n",
    "                            car_ID INTEGER REFERENCES auto.car,\n",
    "                            calendar_year INTEGER,\n",
    "                            total_sales CHARACTER VARYING);\n",
    "                            \n",
    "insert into auto.sales (car_ID, calendar_year, total_sales)\n",
    "select ma.car_id, sa.calendar_year, sa.sales\n",
    "from auto.temp_master ma\n",
    "\n",
    "join auto.temporary_sales sa\n",
    "on upper(ma.brand) = upper(sa.make)\n",
    "AND upper(ma.model) = upper(sa.model)\n",
    "AND upper(ma.modeltype) = upper(sa.model_type)\n",
    "\n",
    "\"\"\")\n",
    "conn.commit()"
   ]
  },
  {
   "cell_type": "markdown",
   "metadata": {},
   "source": [
    "#### (k) Creating and populating the fuel table:\n",
    "This table stores the yearly average of fuel prices from 2013 to 2017"
   ]
  },
  {
   "cell_type": "code",
   "execution_count": 26,
   "metadata": {},
   "outputs": [],
   "source": [
    "# Enter your file path into the variable 'file_path_fuel_price'.\n",
    "# Please ensure that you are using a forward slash to separate each folder\n",
    "\n",
    "file_path_fuel_price = '/Users/Kinjal Majumdar/Downloads/fuel_price.csv'\n"
   ]
  },
  {
   "cell_type": "code",
   "execution_count": 27,
   "metadata": {},
   "outputs": [],
   "source": [
    "conn.rollback()\n",
    "cur.execute(\"\"\"CREATE TABLE auto.fuel_price (priceid SERIAL             PRIMARY KEY,\n",
    "\t\t\t    calendar_year INTEGER,\n",
    "\t\t\t\t\t    price DECIMAL);\"\"\")\n",
    "conn.commit()"
   ]
  },
  {
   "cell_type": "code",
   "execution_count": 28,
   "metadata": {},
   "outputs": [],
   "source": [
    "conn.rollback()\n",
    "insertfuelprice = '''INSERT INTO auto.fuel_price VALUES(%s,%s,%s)'''\n",
    "\n",
    "with open(file_path_fuel_price,'r') as temp:\n",
    "    inputdata = csv.reader(temp)\n",
    "    for rows in inputdata:\n",
    "        cur.execute(insertfuelprice,rows)\n",
    "        conn.commit()"
   ]
  },
  {
   "cell_type": "markdown",
   "metadata": {},
   "source": [
    "#### (l) Changes to the database\n",
    "The data in the sales table for total_sales is converted to INTEGER (from CHARACTER VARYING)"
   ]
  },
  {
   "cell_type": "code",
   "execution_count": 29,
   "metadata": {},
   "outputs": [],
   "source": [
    "conn.rollback()\n",
    "cur.execute(\"\"\"\n",
    "    update auto.sales set total_sales = replace(total_sales,',','') where total_sales like '%,%';\n",
    "    alter table auto.sales alter column total_sales type INTEGER using total_sales::numeric;\n",
    "    \"\"\")\n",
    "conn.commit()"
   ]
  },
  {
   "cell_type": "markdown",
   "metadata": {},
   "source": [
    "#### (m) Dropping all temporary tables:"
   ]
  },
  {
   "cell_type": "code",
   "execution_count": 244,
   "metadata": {},
   "outputs": [],
   "source": [
    "conn.rollback()\n",
    "cur.execute(\"\"\"\n",
    "    DROP TABLE auto.temporary_fuel_economy CASCADE;\n",
    "    DROP TABLE auto.temporary_sales CASCADE;\n",
    "    DROP TABLE auto.temp_master CASCADE;\n",
    "    \"\"\")\n",
    "conn.commit()"
   ]
  },
  {
   "cell_type": "markdown",
   "metadata": {},
   "source": [
    "### X. Challenges"
   ]
  },
  {
   "cell_type": "markdown",
   "metadata": {},
   "source": [
    "***\n",
    "# III. Analysis \n",
    "***"
   ]
  },
  {
   "cell_type": "markdown",
   "metadata": {},
   "source": [
    "### 1. OVERALL RANKING sales vs. fuel economy"
   ]
  },
  {
   "cell_type": "markdown",
   "metadata": {},
   "source": [
    "### Segment 1 - Pickup"
   ]
  },
  {
   "cell_type": "code",
   "execution_count": 276,
   "metadata": {},
   "outputs": [
    {
     "name": "stdout",
     "output_type": "stream",
     "text": [
      "[('DIESEL', 'CHEVROLET', 'COLORADO', 'N/A', 24, 78253, 2017), ('GASOLINE', 'HONDA', 'RIDGELINE', 'N/A', 22, 34034, 2017), ('GASOLINE', 'TOYOTA', 'TACOMA', 'N/A', 20, 152226, 2017), ('DIESEL', 'GMC', 'CANYON', 'N/A', 24, 26345, 2017), ('GASOLINE', 'CHEVROLET', 'COLORADO', 'N/A', 21, 78253, 2017), ('GASOLINE', 'NISSAN', 'FRONTIER', 'N/A', 19, 54481, 2017), ('GASOLINE', 'GMC', 'CANYON', 'N/A', 21, 26345, 2017), ('GASOLINE', 'NISSAN', 'TITAN', 'N/A', 18, 39533, 2017), ('GASOLINE', 'TOYOTA', 'TUNDRA', 'N/A', 16, 81270, 2017)]\n"
     ]
    }
   ],
   "source": [
    "conn.rollback()\n",
    "\n",
    "pickup = \"\"\"SELECT f.fuel, b.make, mo.model, ty.model_type, CAST(avg(fc.fuel_economy) AS INTEGER) AS fuel_economy, s.total_sales, fc.calendar_year  FROM auto.car car\n",
    "JOIN auto.sales s ON car.car_ID = s.car_ID\n",
    "JOIN auto.fuel_consumption fc ON car.car_ID = fc.car_ID\n",
    "JOIN auto.brand b ON car.brand_id = b.brandid\n",
    "JOIN auto.model mo ON car.model_id = mo.modelid\n",
    "JOIN auto.type ty ON car.type_id = ty.typeid\n",
    "JOIN auto.fuel f ON car.fuel_id = f.fuelid\n",
    "WHERE car.segment_ID = 1 /* segment_ID 1 = pickup */\n",
    "AND fc.calendar_year = s.calendar_year\n",
    "AND fc.calendar_year = 2017\n",
    "AND f.fuel NOT LIKE 'ELECTRICITY'\n",
    "AND f.fuel NOT LIKE 'GASOLINE/ELECTRICTY'\n",
    "AND f.fuel NOT LIKE 'GASOLINE/ELECTRICITY'\n",
    "AND f.fuel NOT LIKE 'HYDROGEN'\n",
    "GROUP BY f.fuel, b.make, mo.model, ty.model_type, s.total_sales, fc.calendar_year;\"\"\"\n",
    "\n",
    "cur.execute(pickup)\n",
    "print_pickup = cur.fetchall()\n",
    "print(print_pickup)"
   ]
  },
  {
   "cell_type": "markdown",
   "metadata": {},
   "source": [
    "### Segment 2 - Station Wagon"
   ]
  },
  {
   "cell_type": "code",
   "execution_count": 266,
   "metadata": {},
   "outputs": [
    {
     "name": "stdout",
     "output_type": "stream",
     "text": [
      "[('NISSAN', 'MURANO', 'N/A', 24, 60372, 2017), ('HONDA', 'FIT', 'N/A', 34, 41657, 2017), ('VOLVO', 'V60', 'N/A', 28, 3493, 2017), ('SUBARU', 'IMPREZA', 'N/A', 29, 91959, 2017), ('HONDA', 'HR-V', 'N/A', 30, 68936, 2017), ('CHEVROLET', 'BOLT', 'N/A', 119, 10822, 2017), ('INFINITI', 'QX50', 'N/A', 20, 15113, 2017), ('SUBARU', 'IMPREZA', 'N/A', 29, 65044, 2017), ('FIAT', '500L', 'N/A', 25, 994, 2017), ('VOLVO', 'V60', 'N/A', 28, 1964, 2017), ('NISSAN', 'JUKE', 'N/A', 29, 14308, 2017), ('KIA', 'SOUL', 'N/A', 27, 83720, 2017), ('KIA', 'NIRO', 'N/A', 49, 17112, 2017)]\n"
     ]
    }
   ],
   "source": [
    "conn.rollback()\n",
    "\n",
    "stationwagon = \"\"\"SELECT f.fuel, b.make, mo.model, ty.model_type, CAST(avg(fc.fuel_economy) AS INTEGER) AS fuel_economy, s.total_sales, fc.calendar_year  FROM auto.car car\n",
    "JOIN auto.sales s ON car.car_ID = s.car_ID\n",
    "JOIN auto.fuel_consumption fc ON car.car_ID = fc.car_ID\n",
    "JOIN auto.brand b ON car.brand_id = b.brandid\n",
    "JOIN auto.model mo ON car.model_id = mo.modelid\n",
    "JOIN auto.type ty ON car.type_id = ty.typeid\n",
    "JOIN auto.fuel f ON car.fuel_id = f.fuelid\n",
    "WHERE car.segment_ID = 2 /* segment_ID 2 = Station Wagon */\n",
    "AND fc.calendar_year = s.calendar_year\n",
    "AND fc.calendar_year = 2017\n",
    "AND f.fuel NOT LIKE 'ELECTRICITY'\n",
    "AND f.fuel NOT LIKE 'GASOLINE/ELECTRICTY'\n",
    "AND f.fuel NOT LIKE 'GASOLINE/ELECTRICITY'\n",
    "AND f.fuel NOT LIKE 'HYDROGEN'\n",
    "GROUP BY f.fuel, b.make, mo.model, ty.model_type, s.total_sales, fc.calendar_year;\"\"\"\n",
    "\n",
    "cur.execute(stationwagon)\n",
    "print_stationwagon = cur.fetchall()\n",
    "print(print_stationwagon)"
   ]
  },
  {
   "cell_type": "markdown",
   "metadata": {},
   "source": [
    "### Segment 3 - Special Purpose"
   ]
  },
  {
   "cell_type": "code",
   "execution_count": 267,
   "metadata": {},
   "outputs": [
    {
     "name": "stdout",
     "output_type": "stream",
     "text": [
      "[('NISSAN', 'NV200', 'N/A', 25, 15733, 2017), ('CHEVROLET', 'COLORADO', 'N/A', 15, 78253, 2017), ('GMC', 'CANYON', 'N/A', 15, 26345, 2017), ('MERCEDES-BENZ', 'METRIS', 'N/A', 22, 4347, 2017)]\n"
     ]
    }
   ],
   "source": [
    "conn.rollback()\n",
    "\n",
    "specialpurpose = \"\"\"SELECT f.fuel, b.make, mo.model, ty.model_type, CAST(avg(fc.fuel_economy) AS INTEGER) AS fuel_economy, s.total_sales, fc.calendar_year  FROM auto.car car\n",
    "JOIN auto.sales s ON car.car_ID = s.car_ID\n",
    "JOIN auto.fuel_consumption fc ON car.car_ID = fc.car_ID\n",
    "JOIN auto.brand b ON car.brand_id = b.brandid\n",
    "JOIN auto.model mo ON car.model_id = mo.modelid\n",
    "JOIN auto.type ty ON car.type_id = ty.typeid\n",
    "JOIN auto.fuel f ON car.fuel_id = f.fuelid\n",
    "WHERE car.segment_ID = 3 /* segment_ID 3 = special purpose */\n",
    "AND fc.calendar_year = s.calendar_year\n",
    "AND fc.calendar_year = 2017\n",
    "AND f.fuel NOT LIKE 'ELECTRICITY'\n",
    "AND f.fuel NOT LIKE 'GASOLINE/ELECTRICTY'\n",
    "AND f.fuel NOT LIKE 'GASOLINE/ELECTRICITY'\n",
    "AND f.fuel NOT LIKE 'HYDROGEN'\n",
    "GROUP BY f.fuel, b.make, mo.model, ty.model_type, s.total_sales, fc.calendar_year;\"\"\"\n",
    "\n",
    "cur.execute(specialpurpose)\n",
    "print_specialpurpose = cur.fetchall()\n",
    "print(print_specialpurpose)"
   ]
  },
  {
   "cell_type": "markdown",
   "metadata": {},
   "source": [
    "### Segment 4 - Van"
   ]
  },
  {
   "cell_type": "code",
   "execution_count": 268,
   "metadata": {},
   "outputs": [
    {
     "name": "stdout",
     "output_type": "stream",
     "text": [
      "[]\n"
     ]
    }
   ],
   "source": [
    "conn.rollback()\n",
    "\n",
    "van = \"\"\"SELECT f.fuel, b.make, mo.model, ty.model_type, CAST(avg(fc.fuel_economy) AS INTEGER) AS fuel_economy, s.total_sales, fc.calendar_year  FROM auto.car car\n",
    "JOIN auto.sales s ON car.car_ID = s.car_ID\n",
    "JOIN auto.fuel_consumption fc ON car.car_ID = fc.car_ID\n",
    "JOIN auto.brand b ON car.brand_id = b.brandid\n",
    "JOIN auto.model mo ON car.model_id = mo.modelid\n",
    "JOIN auto.type ty ON car.type_id = ty.typeid\n",
    "JOIN auto.fuel f ON car.fuel_id = f.fuelid\n",
    "WHERE car.segment_ID = 4 /* segment_ID 4 = van */\n",
    "AND fc.calendar_year = s.calendar_year\n",
    "AND fc.calendar_year = 2017\n",
    "AND f.fuel NOT LIKE 'ELECTRICITY'\n",
    "AND f.fuel NOT LIKE 'GASOLINE/ELECTRICTY'\n",
    "AND f.fuel NOT LIKE 'GASOLINE/ELECTRICITY'\n",
    "AND f.fuel NOT LIKE 'HYDROGEN'\n",
    "GROUP BY f.fuel, b.make, mo.model, ty.model_type, s.total_sales, fc.calendar_year;\"\"\"\n",
    "\n",
    "cur.execute(van)\n",
    "print_van = cur.fetchall()\n",
    "print(print_van)"
   ]
  },
  {
   "cell_type": "markdown",
   "metadata": {},
   "source": [
    "### Segment 5 - Large Car"
   ]
  },
  {
   "cell_type": "code",
   "execution_count": null,
   "metadata": {},
   "outputs": [],
   "source": [
    "conn.rollback()\n",
    "\n",
    "largecar = \"\"\"SELECT f.fuel, b.make, mo.model, ty.model_type, CAST(avg(fc.fuel_economy) AS INTEGER) AS fuel_economy, s.total_sales, fc.calendar_year  FROM auto.car car\n",
    "JOIN auto.sales s ON car.car_ID = s.car_ID\n",
    "JOIN auto.fuel_consumption fc ON car.car_ID = fc.car_ID\n",
    "JOIN auto.brand b ON car.brand_id = b.brandid\n",
    "JOIN auto.model mo ON car.model_id = mo.modelid\n",
    "JOIN auto.type ty ON car.type_id = ty.typeid\n",
    "JOIN auto.fuel f ON car.fuel_id = f.fuelid\n",
    "WHERE car.segment_ID = 5 /* segment_ID 5 = Large car */\n",
    "AND fc.calendar_year = s.calendar_year\n",
    "AND fc.calendar_year = 2017\n",
    "AND f.fuel NOT LIKE 'ELECTRICITY'\n",
    "AND f.fuel NOT LIKE 'GASOLINE/ELECTRICTY'\n",
    "AND f.fuel NOT LIKE 'GASOLINE/ELECTRICITY'\n",
    "AND f.fuel NOT LIKE 'HYDROGEN'\n",
    "GROUP BY f.fuel, b.make, mo.model, ty.model_type, s.total_sales, fc.calendar_year;\"\"\"\n",
    "\n",
    "cur.execute(largecar)\n",
    "print_largercar = cur.fetchall()\n",
    "print(print_largecar)"
   ]
  },
  {
   "cell_type": "markdown",
   "metadata": {},
   "source": [
    "### Segment 6 - Minivan"
   ]
  },
  {
   "cell_type": "code",
   "execution_count": 270,
   "metadata": {},
   "outputs": [
    {
     "name": "stdout",
     "output_type": "stream",
     "text": [
      "[('CHRYSLER', 'PACIFICA', 'N/A', 22, 87682, 2017), ('NISSAN', 'QUEST', 'N/A', 22, 13545, 2017), ('TOYOTA', 'SIENNA', 'N/A', 21, 91070, 2017), ('KIA', 'SEDONA', 'N/A', 20, 22463, 2017), ('HONDA', 'ODYSSEY', 'N/A', 22, 73595, 2017)]\n"
     ]
    }
   ],
   "source": [
    "conn.rollback()\n",
    "\n",
    "minivan = \"\"\"SELECT f.fuel, b.make, mo.model, ty.model_type, CAST(avg(fc.fuel_economy) AS INTEGER) AS fuel_economy, s.total_sales, fc.calendar_year  FROM auto.car car\n",
    "JOIN auto.sales s ON car.car_ID = s.car_ID\n",
    "JOIN auto.fuel_consumption fc ON car.car_ID = fc.car_ID\n",
    "JOIN auto.brand b ON car.brand_id = b.brandid\n",
    "JOIN auto.model mo ON car.model_id = mo.modelid\n",
    "JOIN auto.type ty ON car.type_id = ty.typeid\n",
    "JOIN auto.fuel f ON car.fuel_id = f.fuelid\n",
    "WHERE car.segment_ID = 6 /* segment_ID 6 = minivan */\n",
    "AND fc.calendar_year = s.calendar_year\n",
    "AND fc.calendar_year = 2017\n",
    "AND f.fuel NOT LIKE 'ELECTRICITY'\n",
    "AND f.fuel NOT LIKE 'GASOLINE/ELECTRICTY'\n",
    "AND f.fuel NOT LIKE 'GASOLINE/ELECTRICITY'\n",
    "AND f.fuel NOT LIKE 'HYDROGEN'\n",
    "GROUP BY f.fuel, b.make, mo.model, ty.model_type, s.total_sales, fc.calendar_year;\"\"\"\n",
    "\n",
    "cur.execute(minivan)\n",
    "print_minivan = cur.fetchall()\n",
    "print(print_minivan)"
   ]
  },
  {
   "cell_type": "markdown",
   "metadata": {},
   "source": [
    "### Segment 7 - Midsize Car"
   ]
  },
  {
   "cell_type": "code",
   "execution_count": 280,
   "metadata": {},
   "outputs": [
    {
     "name": "stdout",
     "output_type": "stream",
     "text": [
      "[('GASOLINE', 'MAZDA', '3', 'N/A', 30, 72121, 2017), ('ETHANOL/GAS', 'CHRYSLER', '200', 'N/A', 24, 23170, 2017), ('GASOLINE', 'VOLKSWAGEN', 'PASSAT', 'N/A', 25, 63935, 2017), ('GASOLINE', 'INFINITI', 'Q50', 'N/A', 24, 36575, 2017), ('GASOLINE', 'NISSAN', 'SENTRA', 'N/A', 30, 179949, 2017), ('GASOLINE', 'FORD', 'FUSION', 'N/A', 24, 177751, 2017), ('GASOLINE', 'NISSAN', 'ALTIMA', 'N/A', 29, 258948, 2017), ('GASOLINE', 'SUBARU', 'IMPREZA', 'N/A', 30, 91959, 2017), ('GASOLINE', 'TOYOTA', 'COROLLA', 'N/A', 31, 285023, 2017), ('GASOLINE', 'KIA', 'FORTE', 'N/A', 29, 87717, 2017), ('GASOLINE', 'MASERATI', 'GHIBLI', 'N/A', 19, 4953, 2017), ('GASOLINE', 'TOYOTA', 'AVALON', 'N/A', 24, 30086, 2017), ('GASOLINE', 'AUDI', 'A6', 'N/A', 26, 12873, 2017), ('GASOLINE', 'TOYOTA', 'PRIUS', 'N/A', 52, 70403, 2017), ('GASOLINE', 'BUICK', 'REGAL', 'N/A', 23, 11578, 2017), ('GASOLINE', 'NISSAN', 'MAXIMA', 'N/A', 25, 54590, 2017), ('GASOLINE', 'MAZDA', '6', 'N/A', 29, 37422, 2017), ('GASOLINE', 'JAGUAR', 'XF', 'N/A', 23, 4498, 2017), ('GASOLINE', 'VOLVO', 'S90', 'N/A', 26, 3644, 2017), ('GASOLINE', 'BENTLEY', 'MULSANNE', 'N/A', 14, 88, 2017), ('GASOLINE', 'AUDI', 'A7', 'N/A', 24, 4991, 2017), ('GASOLINE', 'SUBARU', 'IMPREZA', 'N/A', 30, 65044, 2017), ('GASOLINE', 'CADILLAC', 'CTS', 'N/A', 23, 8701, 2017), ('GASOLINE', 'TOYOTA', 'CAMRY', 'N/A', 26, 292107, 2017), ('GASOLINE', 'CHEVROLET', 'MALIBU', 'N/A', 34, 122518, 2017), ('GASOLINE', 'TOYOTA', 'PRIUS', 'N/A', 52, 55192, 2017), ('GASOLINE', 'HONDA', 'ACCORD', 'N/A', 29, 244353, 2017), ('GASOLINE', 'ACURA', 'RLX', 'N/A', 26, 1026, 2017), ('GASOLINE', 'HYUNDAI', 'ELANTRA', 'N/A', 30, 189707, 2017), ('DIESEL', 'JAGUAR', 'XF', 'N/A', 35, 4498, 2017), ('GASOLINE', 'CHRYSLER', '200', 'N/A', 27, 23170, 2017), ('GASOLINE', 'DODGE', 'CHALLENGER', 'N/A', 19, 55038, 2017), ('GASOLINE', 'BUICK', 'LACROSSE', 'N/A', 24, 17448, 2017), ('GASOLINE', 'LINCOLN', 'MKZ', 'N/A', 22, 23251, 2017), ('GASOLINE', 'SUBARU', 'LEGACY', 'N/A', 26, 44461, 2017), ('GASOLINE', 'INFINITI', 'Q70', 'N/A', 20, 6867, 2017)]\n"
     ]
    }
   ],
   "source": [
    "conn.rollback()\n",
    "\n",
    "midsize = \"\"\"SELECT f.fuel, b.make, mo.model, ty.model_type, CAST(avg(fc.fuel_economy) AS INTEGER) AS fuel_economy, s.total_sales, fc.calendar_year  FROM auto.car car\n",
    "JOIN auto.sales s ON car.car_ID = s.car_ID\n",
    "JOIN auto.fuel_consumption fc ON car.car_ID = fc.car_ID\n",
    "JOIN auto.brand b ON car.brand_id = b.brandid\n",
    "JOIN auto.model mo ON car.model_id = mo.modelid\n",
    "JOIN auto.type ty ON car.type_id = ty.typeid\n",
    "JOIN auto.fuel f ON car.fuel_id = f.fuelid\n",
    "WHERE car.segment_ID = 7 /* segment_ID 1 = pickup */\n",
    "AND fc.calendar_year = s.calendar_year\n",
    "AND fc.calendar_year = 2017\n",
    "AND f.fuel NOT LIKE 'ELECTRICITY'\n",
    "AND f.fuel NOT LIKE 'GASOLINE/ELECTRICTY'\n",
    "AND f.fuel NOT LIKE 'GASOLINE/ELECTRICITY'\n",
    "AND f.fuel NOT LIKE 'HYDROGEN'\n",
    "GROUP BY f.fuel, b.make, mo.model, ty.model_type, s.total_sales, fc.calendar_year;\"\"\"\n",
    "\n",
    "cur.execute(midsize)\n",
    "print_midsize = cur.fetchall()\n",
    "print(print_midsize)"
   ]
  },
  {
   "cell_type": "markdown",
   "metadata": {},
   "source": [
    "### Segment 8 - Small SUV"
   ]
  },
  {
   "cell_type": "code",
   "execution_count": 281,
   "metadata": {},
   "outputs": [
    {
     "name": "stdout",
     "output_type": "stream",
     "text": [
      "[('GASOLINE', 'JEEP', 'RENEGADE', 'N/A', 25, 88708, 2017), ('ETHANOL/GAS', 'GMC', 'TERRAIN', 'N/A', 25, 79993, 2017), ('ETHANOL/GAS', 'DODGE', 'JOURNEY', 'N/A', 19, 120400, 2017), ('GASOLINE', 'JEEP', 'WRANGLER', 'N/A', 18, 144589, 2017), ('GASOLINE', 'MAZDA', 'CX-9', 'N/A', 24, 22043, 2017), ('GASOLINE', 'SUBARU', 'OUTBACK', 'N/A', 25, 149002, 2017), ('DIESEL', 'JAGUAR', 'F-PACE', 'N/A', 29, 18344, 2017), ('ETHANOL/GAS', 'JEEP', 'CHEROKEE', 'N/A', 24, 142643, 2017), ('GASOLINE', 'JEEP', 'COMPASS', 'N/A', 24, 29932, 2017), ('GASOLINE', 'HONDA', 'PILOT', 'N/A', 22, 88284, 2017), ('ETHANOL/GAS', 'AUDI', 'Q5', 'N/A', 22, 39592, 2017), ('GASOLINE', 'VOLKSWAGEN', 'TIGUAN', 'N/A', 22, 35739, 2017), ('GASOLINE', 'INFINITI', 'QX70', 'N/A', 19, 10168, 2017), ('ETHANOL/GAS', 'CHEVROLET', 'EQUINOX', 'N/A', 24, 219482, 2017), ('GASOLINE', 'PORSCHE', 'MACAN', 'N/A', 22, 18680, 2017), ('GASOLINE', 'JAGUAR', 'F-PACE', 'N/A', 20, 18344, 2017), ('GASOLINE', 'SUBARU', 'CROSSTREK', 'N/A', 28, 70833, 2017), ('GASOLINE', 'FORD', 'ESCAPE', 'N/A', 24, 267183, 2017), ('GASOLINE', 'HONDA', 'CR-V', 'N/A', 29, 329200, 2017), ('GASOLINE', 'CHEVROLET', 'TRAX', 'N/A', 28, 64264, 2017), ('GASOLINE', 'JEEP', 'PATRIOT', 'N/A', 23, 56630, 2017), ('GASOLINE', 'CADILLAC', 'XT5', 'N/A', 22, 47089, 2017), ('GASOLINE', 'INFINITI', 'QX60', 'N/A', 22, 30338, 2017), ('GASOLINE', 'ACURA', 'RDX', 'N/A', 23, 38500, 2017), ('GASOLINE', 'FIAT', '500X', 'N/A', 26, 6881, 2017), ('GASOLINE', 'LINCOLN', 'MKC', 'N/A', 22, 20689, 2017), ('GASOLINE', 'CHEVROLET', 'EQUINOX', 'N/A', 22, 219482, 2017), ('GASOLINE', 'KIA', 'SORENTO', 'N/A', 22, 72713, 2017), ('GASOLINE', 'NISSAN', 'PATHFINDER', 'N/A', 23, 93520, 2017), ('GASOLINE', 'ACURA', 'MDX', 'N/A', 23, 38346, 2017), ('GASOLINE', 'AUDI', 'Q5', 'N/A', 21, 39592, 2017), ('GASOLINE', 'FORD', 'EDGE', 'N/A', 21, 111815, 2017), ('GASOLINE', 'JEEP', 'CHEROKEE', 'N/A', 24, 142643, 2017), ('GASOLINE', 'BUICK', 'ENCORE', 'N/A', 28, 70277, 2017), ('GASOLINE', 'LINCOLN', 'MKX', 'N/A', 20, 28021, 2017), ('GASOLINE', 'BUICK', 'ENVISION', 'N/A', 24, 31185, 2017), ('GASOLINE', 'MITSUBISHI', 'OUTLANDER', 'N/A', 25, 33558, 2017), ('GASOLINE', 'TOYOTA', 'RAV4', 'N/A', 25, 281866, 2017), ('GASOLINE', 'KIA', 'SPORTAGE', 'N/A', 23, 53949, 2017), ('GASOLINE', 'NISSAN', 'ROGUE', 'N/A', 28, 354974, 2017), ('GASOLINE', 'DODGE', 'JOURNEY', 'N/A', 20, 120400, 2017), ('GASOLINE', 'GMC', 'TERRAIN', 'N/A', 22, 79993, 2017), ('GASOLINE', 'SUBARU', 'FORESTER', 'N/A', 26, 145166, 2017), ('ETHANOL/GAS', 'JEEP', 'RENEGADE', 'N/A', 25, 88708, 2017), ('GASOLINE', 'TOYOTA', 'HIGHLANDER', 'N/A', 23, 163247, 2017)]\n"
     ]
    }
   ],
   "source": [
    "conn.rollback()\n",
    "\n",
    "smallSUV = \"\"\"SELECT f.fuel, b.make, mo.model, ty.model_type, CAST(avg(fc.fuel_economy) AS INTEGER) AS fuel_economy, s.total_sales, fc.calendar_year  FROM auto.car car\n",
    "JOIN auto.sales s ON car.car_ID = s.car_ID\n",
    "JOIN auto.fuel_consumption fc ON car.car_ID = fc.car_ID\n",
    "JOIN auto.brand b ON car.brand_id = b.brandid\n",
    "JOIN auto.model mo ON car.model_id = mo.modelid\n",
    "JOIN auto.type ty ON car.type_id = ty.typeid\n",
    "JOIN auto.fuel f ON car.fuel_id = f.fuelid\n",
    "WHERE car.segment_ID = 8 /* segment_ID 8 = Small SUV */\n",
    "AND fc.calendar_year = s.calendar_year\n",
    "AND fc.calendar_year = 2017\n",
    "AND f.fuel NOT LIKE 'ELECTRICITY'\n",
    "AND f.fuel NOT LIKE 'GASOLINE/ELECTRICTY'\n",
    "AND f.fuel NOT LIKE 'GASOLINE/ELECTRICITY'\n",
    "AND f.fuel NOT LIKE 'HYDROGEN'\n",
    "GROUP BY f.fuel, b.make, mo.model, ty.model_type, s.total_sales, fc.calendar_year;\"\"\"\n",
    "\n",
    "cur.execute(smallSUV)\n",
    "print_smallSUV = cur.fetchall()\n",
    "print(print_smallSUV)"
   ]
  },
  {
   "cell_type": "markdown",
   "metadata": {},
   "source": [
    "### Segment 9 - Small Car"
   ]
  },
  {
   "cell_type": "code",
   "execution_count": 271,
   "metadata": {},
   "outputs": [
    {
     "name": "stdout",
     "output_type": "stream",
     "text": [
      "[('FIAT', '500X', 'N/A', 26, 6881, 2017), ('LINCOLN', 'MKC', 'N/A', 22, 20689, 2017), ('ACURA', 'RDX', 'N/A', 23, 38500, 2017), ('CHEVROLET', 'EQUINOX', 'N/A', 22, 219482, 2017), ('CADILLAC', 'XT5', 'N/A', 22, 47089, 2017), ('INFINITI', 'QX60', 'N/A', 22, 30338, 2017), ('ACURA', 'MDX', 'N/A', 23, 38346, 2017), ('AUDI', 'Q5', 'N/A', 22, 39592, 2017), ('FORD', 'EDGE', 'N/A', 21, 111815, 2017), ('KIA', 'SORENTO', 'N/A', 22, 72713, 2017), ('NISSAN', 'PATHFINDER', 'N/A', 23, 93520, 2017), ('NISSAN', 'ROGUE', 'N/A', 28, 354974, 2017), ('KIA', 'SPORTAGE', 'N/A', 23, 53949, 2017), ('BUICK', 'ENCORE', 'N/A', 28, 70277, 2017), ('LINCOLN', 'MKX', 'N/A', 20, 28021, 2017), ('JEEP', 'CHEROKEE', 'N/A', 24, 142643, 2017), ('MITSUBISHI', 'OUTLANDER', 'N/A', 25, 33558, 2017), ('TOYOTA', 'RAV4', 'N/A', 25, 281866, 2017), ('BUICK', 'ENVISION', 'N/A', 24, 31185, 2017), ('SUBARU', 'FORESTER', 'N/A', 26, 145166, 2017), ('TOYOTA', 'HIGHLANDER', 'N/A', 23, 163247, 2017), ('DODGE', 'JOURNEY', 'N/A', 20, 120400, 2017), ('GMC', 'TERRAIN', 'N/A', 22, 79993, 2017), ('JEEP', 'RENEGADE', 'N/A', 25, 88708, 2017), ('JEEP', 'COMPASS', 'N/A', 24, 29932, 2017), ('MAZDA', 'CX-9', 'N/A', 24, 22043, 2017), ('SUBARU', 'OUTBACK', 'N/A', 25, 149002, 2017), ('JEEP', 'WRANGLER', 'N/A', 18, 144589, 2017), ('INFINITI', 'QX70', 'N/A', 19, 10168, 2017), ('HONDA', 'PILOT', 'N/A', 22, 88284, 2017), ('VOLKSWAGEN', 'TIGUAN', 'N/A', 22, 35739, 2017), ('CHEVROLET', 'TRAX', 'N/A', 28, 64264, 2017), ('JEEP', 'PATRIOT', 'N/A', 23, 56630, 2017), ('FORD', 'ESCAPE', 'N/A', 24, 267183, 2017), ('HONDA', 'CR-V', 'N/A', 29, 329200, 2017), ('PORSCHE', 'MACAN', 'N/A', 22, 18680, 2017), ('JAGUAR', 'F-PACE', 'N/A', 25, 18344, 2017), ('SUBARU', 'CROSSTREK', 'N/A', 28, 70833, 2017)]\n"
     ]
    }
   ],
   "source": [
    "conn.rollback()\n",
    "\n",
    "smallcar = \"\"\"SELECT f.fuel, b.make, mo.model, ty.model_type, CAST(avg(fc.fuel_economy) AS INTEGER) AS fuel_economy, s.total_sales, fc.calendar_year  FROM auto.car car\n",
    "JOIN auto.sales s ON car.car_ID = s.car_ID\n",
    "JOIN auto.fuel_consumption fc ON car.car_ID = fc.car_ID\n",
    "JOIN auto.brand b ON car.brand_id = b.brandid\n",
    "JOIN auto.model mo ON car.model_id = mo.modelid\n",
    "JOIN auto.type ty ON car.type_id = ty.typeid\n",
    "JOIN auto.fuel f ON car.fuel_id = f.fuelid\n",
    "WHERE car.segment_ID = 8 /* segment_ID 9 = Small Car */\n",
    "AND fc.calendar_year = s.calendar_year\n",
    "AND fc.calendar_year = 2017\n",
    "AND f.fuel NOT LIKE 'ELECTRICITY'\n",
    "AND f.fuel NOT LIKE 'GASOLINE/ELECTRICTY'\n",
    "AND f.fuel NOT LIKE 'GASOLINE/ELECTRICITY'\n",
    "AND f.fuel NOT LIKE 'HYDROGEN'\n",
    "GROUP BY f.fuel, b.make, mo.model, ty.model_type, s.total_sales, fc.calendar_year;\"\"\"\n",
    "\n",
    "cur.execute(smallcar)\n",
    "print_smallcar = cur.fetchall()\n",
    "print(print_smallcar)"
   ]
  },
  {
   "cell_type": "markdown",
   "metadata": {},
   "source": [
    "### Segment 10 - Standard SUV"
   ]
  },
  {
   "cell_type": "code",
   "execution_count": 278,
   "metadata": {},
   "outputs": [
    {
     "name": "stdout",
     "output_type": "stream",
     "text": [
      "[('GASOLINE', 'INFINITI', 'QX80', 'N/A', 16, 18743, 2017), ('GASOLINE', 'BENTLEY', 'BENTAYGA', 'N/A', 15, 732, 2017), ('GASOLINE', 'MASERATI', 'LEVANTE', 'N/A', 16, 4358, 2017), ('GASOLINE', 'PORSCHE', 'CAYENNE', 'N/A', 20, 12740, 2017), ('GASOLINE', 'BUICK', 'ENCLAVE', 'N/A', 18, 33030, 2017), ('GASOLINE', 'LINCOLN', 'NAVIGATOR', 'N/A', 17, 8705, 2017), ('GASOLINE', 'TOYOTA', 'SEQUOIA', 'N/A', 15, 12030, 2017), ('GASOLINE', 'CHEVROLET', 'TRAVERSE', 'N/A', 18, 102732, 2017), ('GASOLINE', 'TOYOTA', '4RUNNER', 'N/A', 18, 110796, 2017), ('GASOLINE', 'VOLKSWAGEN', 'TOUAREG', 'N/A', 19, 2807, 2017), ('GASOLINE', 'FORD', 'FLEX', 'N/A', 18, 21287, 2017), ('GASOLINE', 'FORD', 'EXPEDITION', 'N/A', 18, 54047, 2017), ('GASOLINE', 'GMC', 'ACADIA', 'N/A', 22, 101892, 2017), ('GASOLINE', 'FORD', 'EXPLORER', 'N/A', 20, 219695, 2017), ('GASOLINE', 'NISSAN', 'ARMADA', 'N/A', 16, 25519, 2017), ('GASOLINE', 'AUDI', 'Q7', 'N/A', 22, 26418, 2017), ('GASOLINE', 'CADILLAC', 'ESCALADE', 'N/A', 17, 26268, 2017), ('GASOLINE', 'LINCOLN', 'MKT', 'N/A', 18, 2688, 2017), ('GASOLINE', 'DODGE', 'DURANGO', 'N/A', 19, 58552, 2017), ('GASOLINE', 'TOYOTA', 'HIGHLANDER', 'N/A', 22, 163247, 2017)]\n"
     ]
    }
   ],
   "source": [
    "conn.rollback()\n",
    "\n",
    "standardSUV = \"\"\"SELECT f.fuel, b.make, mo.model, ty.model_type, CAST(avg(fc.fuel_economy) AS INTEGER) AS fuel_economy, s.total_sales, fc.calendar_year  FROM auto.car car\n",
    "JOIN auto.sales s ON car.car_ID = s.car_ID\n",
    "JOIN auto.fuel_consumption fc ON car.car_ID = fc.car_ID\n",
    "JOIN auto.brand b ON car.brand_id = b.brandid\n",
    "JOIN auto.model mo ON car.model_id = mo.modelid\n",
    "JOIN auto.type ty ON car.type_id = ty.typeid\n",
    "JOIN auto.fuel f ON car.fuel_id = f.fuelid\n",
    "WHERE car.segment_ID = 10 /* segment_ID 10 = Standard SUV */\n",
    "AND fc.calendar_year = s.calendar_year\n",
    "AND fc.calendar_year = 2017\n",
    "AND f.fuel NOT LIKE 'ELECTRICITY'\n",
    "AND f.fuel NOT LIKE 'GASOLINE/ELECTRICTY'\n",
    "AND f.fuel NOT LIKE 'GASOLINE/ELECTRICITY'\n",
    "AND f.fuel NOT LIKE 'HYDROGEN'\n",
    "GROUP BY f.fuel, b.make, mo.model, ty.model_type, s.total_sales, fc.calendar_year;\"\"\"\n",
    "\n",
    "cur.execute(standardSUV)\n",
    "print_standardSUV = cur.fetchall()\n",
    "print(print_standardSUV)"
   ]
  },
  {
   "cell_type": "markdown",
   "metadata": {},
   "source": [
    "### 4. Highest and lowest fuel economy within Top 10 sales segment "
   ]
  },
  {
   "cell_type": "markdown",
   "metadata": {},
   "source": [
    "### Segment 1: Pickup"
   ]
  },
  {
   "cell_type": "code",
   "execution_count": 30,
   "metadata": {},
   "outputs": [
    {
     "name": "stdout",
     "output_type": "stream",
     "text": [
      "[('GASOLINE', 'INFINITI', 'QX50', 'N/A', 20, 4318, 2017), ('GASOLINE', 'KIA', 'NIRO', 'N/A', 49, 4889, 2017)]\n"
     ]
    }
   ],
   "source": [
    "conn.rollback()\n",
    "\n",
    "pickup1 = \"\"\"(SELECT * FROM (SELECT f.fuel, b.make, mo.model, ty.model_type, CAST(avg(fc.fuel_economy) AS INTEGER) AS fuel_economy, s.total_sales, fc.calendar_year  FROM auto.car car\n",
    "JOIN auto.sales s ON car.car_ID = s.car_ID\n",
    "JOIN auto.fuel_consumption fc ON car.car_ID = fc.car_ID\n",
    "JOIN auto.brand b ON car.brand_id = b.brandid\n",
    "JOIN auto.model mo ON car.model_id = mo.modelid\n",
    "JOIN auto.type ty ON car.type_id = ty.typeid\n",
    "JOIN auto.fuel f ON car.fuel_id = f.fuelid\n",
    "WHERE car.segment_ID = 1 /* segment_ID 1 = pickup */\n",
    "AND fc.calendar_year = s.calendar_year\n",
    "AND fc.calendar_year = 2017\n",
    "AND f.fuel NOT LIKE 'ELECTRICITY'\n",
    "AND f.fuel NOT LIKE 'GASOLINE/ELECTRICTY'\n",
    "AND f.fuel NOT LIKE 'GASOLINE/ELECTRICITY'\n",
    "AND f.fuel NOT LIKE 'HYDROGEN'\n",
    "GROUP BY f.fuel, b.make, mo.model, ty.model_type, s.total_sales, fc.calendar_year\n",
    "ORDER BY s.total_sales DESC\n",
    "LIMIT 10) AS Top10 \n",
    "ORDER BY fuel_economy DESC\n",
    "LIMIT 1)\n",
    "\n",
    "UNION\n",
    "\n",
    "(SELECT * FROM (SELECT f.fuel, b.make, mo.model, ty.model_type, CAST(avg(fc.fuel_economy) AS INTEGER) AS fuel_economy, s.total_sales, fc.calendar_year  FROM auto.car car\n",
    "JOIN auto.sales s ON car.car_ID = s.car_ID\n",
    "JOIN auto.fuel_consumption fc ON car.car_ID = fc.car_ID\n",
    "JOIN auto.brand b ON car.brand_id = b.brandid\n",
    "JOIN auto.model mo ON car.model_id = mo.modelid\n",
    "JOIN auto.type ty ON car.type_id = ty.typeid\n",
    "JOIN auto.fuel f ON car.fuel_id = f.fuelid\n",
    "WHERE car.segment_ID = 1 /* segment_ID 1 = pickup */\n",
    "AND fc.calendar_year = s.calendar_year\n",
    "AND fc.calendar_year = 2017\n",
    "AND f.fuel NOT LIKE 'ELECTRICITY'\n",
    "AND f.fuel NOT LIKE 'GASOLINE/ELECTRICTY'\n",
    "AND f.fuel NOT LIKE 'GASOLINE/ELECTRICITY'\n",
    "AND f.fuel NOT LIKE 'HYDROGEN'\n",
    "GROUP BY f.fuel, b.make, mo.model, ty.model_type, s.total_sales, fc.calendar_year\n",
    "ORDER BY s.total_sales DESC\n",
    "LIMIT 10) AS Top10 \n",
    "ORDER BY fuel_economy ASC \n",
    "LIMIT 1);\n",
    "\n",
    "\"\"\"\n",
    "\n",
    "cur.execute(pickup1)\n",
    "print_pickup1 = cur.fetchall()\n",
    "print(print_pickup1)"
   ]
  },
  {
   "cell_type": "code",
   "execution_count": 31,
   "metadata": {},
   "outputs": [
    {
     "name": "stdout",
     "output_type": "stream",
     "text": [
      "[(3412, 2013), (8003, 2014), (76521, 2015), (22620, 2016), (22358, 2017)]\n"
     ]
    }
   ],
   "source": [
    "conn.rollback()\n",
    "\n",
    "pickuphigh = \"\"\"SELECT DISTINCT total_sales, calendar_year from auto.sales s\n",
    "JOIN auto.car car ON car.car_ID = s.car_ID\n",
    "JOIN auto.brand b ON car.brand_id = b.brandid\n",
    "JOIN auto.model mo ON car.model_id = mo.modelid\n",
    "JOIN auto.type ty ON car.type_id = ty.typeid\n",
    "WHERE b.make LIKE 'CHEVROLET'\n",
    "AND mo.model LIKE 'COLORADO'\n",
    "AND ty.model_type LIKE 'N/A'\n",
    "ORDER BY calendar_year ASC;\"\"\"\n",
    "\n",
    "cur.execute(pickuphigh)\n",
    "print_pickuphigh = cur.fetchall()\n",
    "print(print_pickuphigh)"
   ]
  },
  {
   "cell_type": "code",
   "execution_count": 32,
   "metadata": {},
   "outputs": [
    {
     "name": "stdout",
     "output_type": "stream",
     "text": [
      "[(112732, 2013), (118493, 2014), (107730, 2015), (25535, 2016), (23220, 2017)]\n"
     ]
    }
   ],
   "source": [
    "conn.rollback()\n",
    "\n",
    "pickuplow = \"\"\"SELECT DISTINCT total_sales, calendar_year from auto.sales s\n",
    "JOIN auto.car car ON car.car_ID = s.car_ID\n",
    "JOIN auto.brand b ON car.brand_id = b.brandid\n",
    "JOIN auto.model mo ON car.model_id = mo.modelid\n",
    "JOIN auto.type ty ON car.type_id = ty.typeid\n",
    "WHERE b.make LIKE 'TOYOTA'\n",
    "AND mo.model LIKE 'TUNDRA'\n",
    "AND ty.model_type LIKE 'N/A'\n",
    "ORDER BY calendar_year ASC;\"\"\"\n",
    "\n",
    "cur.execute(pickuplow)\n",
    "print_pickuplow = cur.fetchall()\n",
    "print(print_pickuplow)"
   ]
  },
  {
   "cell_type": "markdown",
   "metadata": {},
   "source": [
    "## Segment 2: Station Wagon"
   ]
  },
  {
   "cell_type": "code",
   "execution_count": 33,
   "metadata": {},
   "outputs": [
    {
     "name": "stdout",
     "output_type": "stream",
     "text": [
      "[('GASOLINE', 'CHRYSLER', 'PACIFICA', 'N/A', 22, 25052, 2017), ('GASOLINE', 'KIA', 'SEDONA', 'N/A', 20, 6418, 2017)]\n"
     ]
    }
   ],
   "source": [
    "conn.rollback()\n",
    "\n",
    "stwagon2 = \"\"\"(SELECT * FROM (SELECT f.fuel, b.make, mo.model, ty.model_type, CAST(avg(fc.fuel_economy) AS INTEGER) AS fuel_economy, s.total_sales, fc.calendar_year  FROM auto.car car\n",
    "JOIN auto.sales s ON car.car_ID = s.car_ID\n",
    "JOIN auto.fuel_consumption fc ON car.car_ID = fc.car_ID\n",
    "JOIN auto.brand b ON car.brand_id = b.brandid\n",
    "JOIN auto.model mo ON car.model_id = mo.modelid\n",
    "JOIN auto.type ty ON car.type_id = ty.typeid\n",
    "JOIN auto.fuel f ON car.fuel_id = f.fuelid\n",
    "WHERE car.segment_ID = 2 /* segment_ID 2 = station wagon */\n",
    "AND fc.calendar_year = s.calendar_year\n",
    "AND fc.calendar_year = 2017\n",
    "AND f.fuel NOT LIKE 'ELECTRICITY'\n",
    "AND f.fuel NOT LIKE 'GASOLINE/ELECTRICTY'\n",
    "AND f.fuel NOT LIKE 'GASOLINE/ELECTRICITY'\n",
    "AND f.fuel NOT LIKE 'HYDROGEN'\n",
    "GROUP BY f.fuel, b.make, mo.model, ty.model_type, s.total_sales, fc.calendar_year\n",
    "ORDER BY s.total_sales DESC\n",
    "LIMIT 10) AS Top10 \n",
    "ORDER BY fuel_economy DESC\n",
    "LIMIT 1)\n",
    "\n",
    "UNION\n",
    "\n",
    "(SELECT * FROM (SELECT f.fuel, b.make, mo.model, ty.model_type, CAST(avg(fc.fuel_economy) AS INTEGER) AS fuel_economy, s.total_sales, fc.calendar_year  FROM auto.car car\n",
    "JOIN auto.sales s ON car.car_ID = s.car_ID\n",
    "JOIN auto.fuel_consumption fc ON car.car_ID = fc.car_ID\n",
    "JOIN auto.brand b ON car.brand_id = b.brandid\n",
    "JOIN auto.model mo ON car.model_id = mo.modelid\n",
    "JOIN auto.type ty ON car.type_id = ty.typeid\n",
    "JOIN auto.fuel f ON car.fuel_id = f.fuelid\n",
    "WHERE car.segment_ID = 2 /* segment_ID 2 = station wagon */\n",
    "AND fc.calendar_year = s.calendar_year\n",
    "AND fc.calendar_year = 2017\n",
    "AND f.fuel NOT LIKE 'ELECTRICITY'\n",
    "AND f.fuel NOT LIKE 'GASOLINE/ELECTRICTY'\n",
    "AND f.fuel NOT LIKE 'GASOLINE/ELECTRICITY'\n",
    "AND f.fuel NOT LIKE 'HYDROGEN'\n",
    "GROUP BY f.fuel, b.make, mo.model, ty.model_type, s.total_sales, fc.calendar_year\n",
    "ORDER BY s.total_sales DESC\n",
    "LIMIT 10) AS Top10 \n",
    "ORDER BY fuel_economy ASC \n",
    "LIMIT 1);\n",
    "\n",
    "\"\"\"\n",
    "\n",
    "cur.execute(stwagon2)\n",
    "print_stwagon2 = cur.fetchall()\n",
    "print(print_stwagon2)"
   ]
  },
  {
   "cell_type": "code",
   "execution_count": 35,
   "metadata": {},
   "outputs": [
    {
     "name": "stdout",
     "output_type": "stream",
     "text": [
      "[(140, 2016), (25052, 2017)]\n"
     ]
    }
   ],
   "source": [
    "conn.rollback()\n",
    "\n",
    "stwagonhigh = \"\"\"SELECT DISTINCT total_sales, calendar_year from auto.sales s\n",
    "JOIN auto.car car ON car.car_ID = s.car_ID\n",
    "JOIN auto.brand b ON car.brand_id = b.brandid\n",
    "JOIN auto.model mo ON car.model_id = mo.modelid\n",
    "JOIN auto.type ty ON car.type_id = ty.typeid\n",
    "WHERE b.make LIKE 'CHRYSLER'\n",
    "AND mo.model LIKE 'PACIFICA'\n",
    "AND ty.model_type LIKE 'N/A'\n",
    "ORDER BY calendar_year ASC;\"\"\"\n",
    "\n",
    "cur.execute(stwagonhigh)\n",
    "print_stwagonhigh = cur.fetchall()\n",
    "print(print_stwagonhigh)"
   ]
  },
  {
   "cell_type": "code",
   "execution_count": 37,
   "metadata": {},
   "outputs": [
    {
     "name": "stdout",
     "output_type": "stream",
     "text": [
      "[(7079, 2013), (14567, 2014), (34439, 2015), (10231, 2016), (6418, 2017)]\n"
     ]
    }
   ],
   "source": [
    "conn.rollback()\n",
    "\n",
    "stwagonlow = \"\"\"SELECT DISTINCT total_sales, calendar_year from auto.sales s\n",
    "JOIN auto.car car ON car.car_ID = s.car_ID\n",
    "JOIN auto.brand b ON car.brand_id = b.brandid\n",
    "JOIN auto.model mo ON car.model_id = mo.modelid\n",
    "JOIN auto.type ty ON car.type_id = ty.typeid\n",
    "WHERE b.make LIKE 'KIA'\n",
    "AND mo.model LIKE 'SEDONA'\n",
    "AND ty.model_type LIKE 'N/A'\n",
    "ORDER BY calendar_year ASC;\"\"\"\n",
    "\n",
    "cur.execute(stwagonlow)\n",
    "print_stwagonlow = cur.fetchall()\n",
    "print(print_stwagonlow)"
   ]
  },
  {
   "cell_type": "markdown",
   "metadata": {},
   "source": [
    "## Segment 3: Special Purpose"
   ]
  },
  {
   "cell_type": "code",
   "execution_count": 38,
   "metadata": {},
   "outputs": [
    {
     "name": "stdout",
     "output_type": "stream",
     "text": [
      "[('GASOLINE', 'CHEVROLET', 'MALIBU', 'N/A', 34, 35005, 2017), ('GASOLINE', 'FORD', 'FUSION', 'N/A', 24, 50786, 2017)]\n"
     ]
    }
   ],
   "source": [
    "conn.rollback()\n",
    "\n",
    "sppurpose3 = \"\"\"(SELECT * FROM (SELECT f.fuel, b.make, mo.model, ty.model_type, CAST(avg(fc.fuel_economy) AS INTEGER) AS fuel_economy, s.total_sales, fc.calendar_year  FROM auto.car car\n",
    "JOIN auto.sales s ON car.car_ID = s.car_ID\n",
    "JOIN auto.fuel_consumption fc ON car.car_ID = fc.car_ID\n",
    "JOIN auto.brand b ON car.brand_id = b.brandid\n",
    "JOIN auto.model mo ON car.model_id = mo.modelid\n",
    "JOIN auto.type ty ON car.type_id = ty.typeid\n",
    "JOIN auto.fuel f ON car.fuel_id = f.fuelid\n",
    "WHERE car.segment_ID = 3 /* segment_ID 3 = special purpose */\n",
    "AND fc.calendar_year = s.calendar_year\n",
    "AND fc.calendar_year = 2017\n",
    "AND f.fuel NOT LIKE 'ELECTRICITY'\n",
    "AND f.fuel NOT LIKE 'GASOLINE/ELECTRICTY'\n",
    "AND f.fuel NOT LIKE 'GASOLINE/ELECTRICITY'\n",
    "AND f.fuel NOT LIKE 'HYDROGEN'\n",
    "GROUP BY f.fuel, b.make, mo.model, ty.model_type, s.total_sales, fc.calendar_year\n",
    "ORDER BY s.total_sales DESC\n",
    "LIMIT 10) AS Top10 \n",
    "ORDER BY fuel_economy DESC\n",
    "LIMIT 1)\n",
    "\n",
    "UNION\n",
    "\n",
    "(SELECT * FROM (SELECT f.fuel, b.make, mo.model, ty.model_type, CAST(avg(fc.fuel_economy) AS INTEGER) AS fuel_economy, s.total_sales, fc.calendar_year  FROM auto.car car\n",
    "JOIN auto.sales s ON car.car_ID = s.car_ID\n",
    "JOIN auto.fuel_consumption fc ON car.car_ID = fc.car_ID\n",
    "JOIN auto.brand b ON car.brand_id = b.brandid\n",
    "JOIN auto.model mo ON car.model_id = mo.modelid\n",
    "JOIN auto.type ty ON car.type_id = ty.typeid\n",
    "JOIN auto.fuel f ON car.fuel_id = f.fuelid\n",
    "WHERE car.segment_ID = 3 /* segment_ID 3 = special purpose */\n",
    "AND fc.calendar_year = s.calendar_year\n",
    "AND fc.calendar_year = 2017\n",
    "AND f.fuel NOT LIKE 'ELECTRICITY'\n",
    "AND f.fuel NOT LIKE 'GASOLINE/ELECTRICTY'\n",
    "AND f.fuel NOT LIKE 'GASOLINE/ELECTRICITY'\n",
    "AND f.fuel NOT LIKE 'HYDROGEN'\n",
    "GROUP BY f.fuel, b.make, mo.model, ty.model_type, s.total_sales, fc.calendar_year\n",
    "ORDER BY s.total_sales DESC\n",
    "LIMIT 10) AS Top10 \n",
    "ORDER BY fuel_economy ASC \n",
    "LIMIT 1);\n",
    "\n",
    "\"\"\"\n",
    "\n",
    "cur.execute(sppurpose3)\n",
    "print_sppurpose3 = cur.fetchall()\n",
    "print(print_sppurpose3)"
   ]
  },
  {
   "cell_type": "code",
   "execution_count": 40,
   "metadata": {},
   "outputs": [
    {
     "name": "stdout",
     "output_type": "stream",
     "text": [
      "[(200594, 2013), (188519, 2014), (182699, 2015), (58222, 2016), (35005, 2017)]\n"
     ]
    }
   ],
   "source": [
    "conn.rollback()\n",
    "\n",
    "sppurposehigh = \"\"\"SELECT DISTINCT total_sales, calendar_year from auto.sales s\n",
    "JOIN auto.car car ON car.car_ID = s.car_ID\n",
    "JOIN auto.brand b ON car.brand_id = b.brandid\n",
    "JOIN auto.model mo ON car.model_id = mo.modelid\n",
    "JOIN auto.type ty ON car.type_id = ty.typeid\n",
    "WHERE b.make LIKE 'CHEVROLET'\n",
    "AND mo.model LIKE 'MALIBU'\n",
    "AND ty.model_type LIKE 'N/A'\n",
    "ORDER BY calendar_year ASC;\"\"\"\n",
    "\n",
    "cur.execute(sppurposehigh)\n",
    "print_sppurposehigh = cur.fetchall()\n",
    "print(print_sppurposehigh)"
   ]
  },
  {
   "cell_type": "code",
   "execution_count": 41,
   "metadata": {},
   "outputs": [
    {
     "name": "stdout",
     "output_type": "stream",
     "text": [
      "[(295280, 2013), (306860, 2014), (274594, 2015), (74994, 2016), (50786, 2017)]\n"
     ]
    }
   ],
   "source": [
    "conn.rollback()\n",
    "\n",
    "sppurposelow = \"\"\"SELECT DISTINCT total_sales, calendar_year from auto.sales s\n",
    "JOIN auto.car car ON car.car_ID = s.car_ID\n",
    "JOIN auto.brand b ON car.brand_id = b.brandid\n",
    "JOIN auto.model mo ON car.model_id = mo.modelid\n",
    "JOIN auto.type ty ON car.type_id = ty.typeid\n",
    "WHERE b.make LIKE 'FORD'\n",
    "AND mo.model LIKE 'FUSION'\n",
    "AND ty.model_type LIKE 'N/A'\n",
    "ORDER BY calendar_year ASC;\"\"\"\n",
    "\n",
    "cur.execute(sppurposelow)\n",
    "print_sppurposelow = cur.fetchall()\n",
    "print(print_sppurposelow)"
   ]
  },
  {
   "cell_type": "markdown",
   "metadata": {},
   "source": [
    "## Segment 4: Van"
   ]
  },
  {
   "cell_type": "code",
   "execution_count": 44,
   "metadata": {},
   "outputs": [
    {
     "name": "stdout",
     "output_type": "stream",
     "text": [
      "[]\n"
     ]
    }
   ],
   "source": [
    "##NOTHING IN IT\n",
    "\n",
    "conn.rollback()\n",
    "\n",
    "van4 = \"\"\"(SELECT * FROM (SELECT f.fuel, b.make, mo.model, ty.model_type, CAST(avg(fc.fuel_economy) AS INTEGER) AS fuel_economy, s.total_sales, fc.calendar_year  FROM auto.car car\n",
    "JOIN auto.sales s ON car.car_ID = s.car_ID\n",
    "JOIN auto.fuel_consumption fc ON car.car_ID = fc.car_ID\n",
    "JOIN auto.brand b ON car.brand_id = b.brandid\n",
    "JOIN auto.model mo ON car.model_id = mo.modelid\n",
    "JOIN auto.type ty ON car.type_id = ty.typeid\n",
    "JOIN auto.fuel f ON car.fuel_id = f.fuelid\n",
    "WHERE car.segment_ID = 4 /* segment_ID 4 = station wagon */\n",
    "AND fc.calendar_year = s.calendar_year\n",
    "AND fc.calendar_year = 2017\n",
    "AND f.fuel NOT LIKE 'ELECTRICITY'\n",
    "AND f.fuel NOT LIKE 'GASOLINE/ELECTRICTY'\n",
    "AND f.fuel NOT LIKE 'GASOLINE/ELECTRICITY'\n",
    "AND f.fuel NOT LIKE 'HYDROGEN'\n",
    "GROUP BY f.fuel, b.make, mo.model, ty.model_type, s.total_sales, fc.calendar_year\n",
    "ORDER BY s.total_sales DESC\n",
    "LIMIT 10) AS Top10 \n",
    "ORDER BY fuel_economy DESC\n",
    "LIMIT 1)\n",
    "\n",
    "UNION\n",
    "\n",
    "(SELECT * FROM (SELECT f.fuel, b.make, mo.model, ty.model_type, CAST(avg(fc.fuel_economy) AS INTEGER) AS fuel_economy, s.total_sales, fc.calendar_year  FROM auto.car car\n",
    "JOIN auto.sales s ON car.car_ID = s.car_ID\n",
    "JOIN auto.fuel_consumption fc ON car.car_ID = fc.car_ID\n",
    "JOIN auto.brand b ON car.brand_id = b.brandid\n",
    "JOIN auto.model mo ON car.model_id = mo.modelid\n",
    "JOIN auto.type ty ON car.type_id = ty.typeid\n",
    "JOIN auto.fuel f ON car.fuel_id = f.fuelid\n",
    "WHERE car.segment_ID = 4 /* segment_ID 4 = van */\n",
    "AND fc.calendar_year = s.calendar_year\n",
    "AND fc.calendar_year = 2017\n",
    "AND f.fuel NOT LIKE 'ELECTRICITY'\n",
    "AND f.fuel NOT LIKE 'GASOLINE/ELECTRICTY'\n",
    "AND f.fuel NOT LIKE 'GASOLINE/ELECTRICITY'\n",
    "AND f.fuel NOT LIKE 'HYDROGEN'\n",
    "GROUP BY f.fuel, b.make, mo.model, ty.model_type, s.total_sales, fc.calendar_year\n",
    "ORDER BY s.total_sales DESC\n",
    "LIMIT 10) AS Top10 \n",
    "ORDER BY fuel_economy ASC \n",
    "LIMIT 1);\n",
    "\n",
    "\"\"\"\n",
    "\n",
    "cur.execute(van4)\n",
    "print_van4 = cur.fetchall()\n",
    "print(print_van4)"
   ]
  },
  {
   "cell_type": "markdown",
   "metadata": {},
   "source": [
    "## Segment 5: Large Car"
   ]
  },
  {
   "cell_type": "code",
   "execution_count": 47,
   "metadata": {},
   "outputs": [
    {
     "name": "stdout",
     "output_type": "stream",
     "text": [
      "[('GASOLINE', 'DODGE', 'CHARGER', 'N/A', 20, 22319, 2017), ('GASOLINE', 'HYUNDAI', 'SONATA', 'N/A', 29, 37869, 2017)]\n"
     ]
    }
   ],
   "source": [
    "conn.rollback()\n",
    "\n",
    "lcar5 = \"\"\"(SELECT * FROM (SELECT f.fuel, b.make, mo.model, ty.model_type, CAST(avg(fc.fuel_economy) AS INTEGER) AS fuel_economy, s.total_sales, fc.calendar_year  FROM auto.car car\n",
    "JOIN auto.sales s ON car.car_ID = s.car_ID\n",
    "JOIN auto.fuel_consumption fc ON car.car_ID = fc.car_ID\n",
    "JOIN auto.brand b ON car.brand_id = b.brandid\n",
    "JOIN auto.model mo ON car.model_id = mo.modelid\n",
    "JOIN auto.type ty ON car.type_id = ty.typeid\n",
    "JOIN auto.fuel f ON car.fuel_id = f.fuelid\n",
    "WHERE car.segment_ID = 5 /* segment_ID 5 = large car */\n",
    "AND fc.calendar_year = s.calendar_year\n",
    "AND fc.calendar_year = 2017\n",
    "AND f.fuel NOT LIKE 'ELECTRICITY'\n",
    "AND f.fuel NOT LIKE 'GASOLINE/ELECTRICTY'\n",
    "AND f.fuel NOT LIKE 'GASOLINE/ELECTRICITY'\n",
    "AND f.fuel NOT LIKE 'HYDROGEN'\n",
    "GROUP BY f.fuel, b.make, mo.model, ty.model_type, s.total_sales, fc.calendar_year\n",
    "ORDER BY s.total_sales DESC\n",
    "LIMIT 10) AS Top10 \n",
    "ORDER BY fuel_economy DESC\n",
    "LIMIT 1)\n",
    "\n",
    "UNION\n",
    "\n",
    "(SELECT * FROM (SELECT f.fuel, b.make, mo.model, ty.model_type, CAST(avg(fc.fuel_economy) AS INTEGER) AS fuel_economy, s.total_sales, fc.calendar_year  FROM auto.car car\n",
    "JOIN auto.sales s ON car.car_ID = s.car_ID\n",
    "JOIN auto.fuel_consumption fc ON car.car_ID = fc.car_ID\n",
    "JOIN auto.brand b ON car.brand_id = b.brandid\n",
    "JOIN auto.model mo ON car.model_id = mo.modelid\n",
    "JOIN auto.type ty ON car.type_id = ty.typeid\n",
    "JOIN auto.fuel f ON car.fuel_id = f.fuelid\n",
    "WHERE car.segment_ID = 5 /* segment_ID 5 = large car */\n",
    "AND fc.calendar_year = s.calendar_year\n",
    "AND fc.calendar_year = 2017\n",
    "AND f.fuel NOT LIKE 'ELECTRICITY'\n",
    "AND f.fuel NOT LIKE 'GASOLINE/ELECTRICTY'\n",
    "AND f.fuel NOT LIKE 'GASOLINE/ELECTRICITY'\n",
    "AND f.fuel NOT LIKE 'HYDROGEN'\n",
    "GROUP BY f.fuel, b.make, mo.model, ty.model_type, s.total_sales, fc.calendar_year\n",
    "ORDER BY s.total_sales DESC\n",
    "LIMIT 10) AS Top10 \n",
    "ORDER BY fuel_economy ASC \n",
    "LIMIT 1);\n",
    "\n",
    "\"\"\"\n",
    "\n",
    "cur.execute(lcar5)\n",
    "print_lcar5 = cur.fetchall()\n",
    "print(print_lcar5)"
   ]
  },
  {
   "cell_type": "code",
   "execution_count": 48,
   "metadata": {},
   "outputs": [
    {
     "name": "stdout",
     "output_type": "stream",
     "text": [
      "[(98336, 2013), (94099, 2014), (86058, 2015), (26345, 2016), (22319, 2017)]\n"
     ]
    }
   ],
   "source": [
    "conn.rollback()\n",
    "\n",
    "lcarhigh = \"\"\"SELECT DISTINCT total_sales, calendar_year from auto.sales s\n",
    "JOIN auto.car car ON car.car_ID = s.car_ID\n",
    "JOIN auto.brand b ON car.brand_id = b.brandid\n",
    "JOIN auto.model mo ON car.model_id = mo.modelid\n",
    "JOIN auto.type ty ON car.type_id = ty.typeid\n",
    "WHERE b.make LIKE 'DODGE'\n",
    "AND mo.model LIKE 'CHARGER'\n",
    "AND ty.model_type LIKE 'N/A'\n",
    "ORDER BY calendar_year ASC;\"\"\"\n",
    "\n",
    "cur.execute(lcarhigh)\n",
    "print_lcarhigh = cur.fetchall()\n",
    "print(print_lcarhigh)"
   ]
  },
  {
   "cell_type": "code",
   "execution_count": 50,
   "metadata": {},
   "outputs": [
    {
     "name": "stdout",
     "output_type": "stream",
     "text": [
      "[(203648, 2013), (216936, 2014), (190483, 2015), (61457, 2016), (37869, 2017)]\n"
     ]
    }
   ],
   "source": [
    "conn.rollback()\n",
    "\n",
    "lcarlow = \"\"\"SELECT DISTINCT total_sales, calendar_year from auto.sales s\n",
    "JOIN auto.car car ON car.car_ID = s.car_ID\n",
    "JOIN auto.brand b ON car.brand_id = b.brandid\n",
    "JOIN auto.model mo ON car.model_id = mo.modelid\n",
    "JOIN auto.type ty ON car.type_id = ty.typeid\n",
    "WHERE b.make LIKE 'HYUNDAI'\n",
    "AND mo.model LIKE 'SONATA'\n",
    "AND ty.model_type LIKE 'N/A'\n",
    "ORDER BY calendar_year ASC;\"\"\"\n",
    "\n",
    "cur.execute(lcarlow)\n",
    "print_lcarlow = cur.fetchall()\n",
    "print(print_lcarlow)"
   ]
  },
  {
   "cell_type": "markdown",
   "metadata": {},
   "source": [
    "## Segment 6: Minivan"
   ]
  },
  {
   "cell_type": "code",
   "execution_count": 55,
   "metadata": {},
   "outputs": [
    {
     "name": "stdout",
     "output_type": "stream",
     "text": [
      "[('GASOLINE', 'CADILLAC', 'ESCALADE', 'N/A', 17, 7505, 2017), ('GASOLINE', 'TOYOTA', 'HIGHLANDER', 'N/A', 22, 46642, 2017)]\n"
     ]
    }
   ],
   "source": [
    "conn.rollback()\n",
    "\n",
    "minivan6 = \"\"\"(SELECT * FROM (SELECT f.fuel, b.make, mo.model, ty.model_type, CAST(avg(fc.fuel_economy) AS INTEGER) AS fuel_economy, s.total_sales, fc.calendar_year  FROM auto.car car\n",
    "JOIN auto.sales s ON car.car_ID = s.car_ID\n",
    "JOIN auto.fuel_consumption fc ON car.car_ID = fc.car_ID\n",
    "JOIN auto.brand b ON car.brand_id = b.brandid\n",
    "JOIN auto.model mo ON car.model_id = mo.modelid\n",
    "JOIN auto.type ty ON car.type_id = ty.typeid\n",
    "JOIN auto.fuel f ON car.fuel_id = f.fuelid\n",
    "JOIN auto.segment seg on car.segment_ID = seg.segid\n",
    "WHERE car.segment_ID = 6 /* segment_ID 6 = minivan */\n",
    "AND fc.calendar_year = s.calendar_year\n",
    "AND fc.calendar_year = 2017\n",
    "AND f.fuel NOT LIKE 'ELECTRICITY'\n",
    "AND f.fuel NOT LIKE 'GASOLINE/ELECTRICTY'\n",
    "AND f.fuel NOT LIKE 'GASOLINE/ELECTRICITY'\n",
    "AND f.fuel NOT LIKE 'HYDROGEN'\n",
    "GROUP BY f.fuel, b.make, mo.model, ty.model_type, s.total_sales, fc.calendar_year\n",
    "ORDER BY s.total_sales DESC\n",
    "LIMIT 10) AS Top10 \n",
    "ORDER BY fuel_economy DESC\n",
    "LIMIT 1)\n",
    "\n",
    "UNION\n",
    "\n",
    "(SELECT * FROM (SELECT f.fuel, b.make, mo.model, ty.model_type, CAST(avg(fc.fuel_economy) AS INTEGER) AS fuel_economy, s.total_sales, fc.calendar_year  FROM auto.car car\n",
    "JOIN auto.sales s ON car.car_ID = s.car_ID\n",
    "JOIN auto.fuel_consumption fc ON car.car_ID = fc.car_ID\n",
    "JOIN auto.brand b ON car.brand_id = b.brandid\n",
    "JOIN auto.model mo ON car.model_id = mo.modelid\n",
    "JOIN auto.type ty ON car.type_id = ty.typeid\n",
    "JOIN auto.fuel f ON car.fuel_id = f.fuelid\n",
    "JOIN auto.segment seg on car.segment_ID = seg.segid\n",
    "WHERE car.segment_ID = 6 /* segment_ID 6 = minivan */\n",
    "AND fc.calendar_year = s.calendar_year\n",
    "AND fc.calendar_year = 2017\n",
    "AND f.fuel NOT LIKE 'ELECTRICITY'\n",
    "AND f.fuel NOT LIKE 'GASOLINE/ELECTRICTY'\n",
    "AND f.fuel NOT LIKE 'GASOLINE/ELECTRICITY'\n",
    "AND f.fuel NOT LIKE 'HYDROGEN'\n",
    "GROUP BY f.fuel, b.make, mo.model, ty.model_type, s.total_sales, fc.calendar_year\n",
    "ORDER BY s.total_sales DESC\n",
    "LIMIT 10) AS Top10 \n",
    "ORDER BY fuel_economy ASC \n",
    "LIMIT 1);\n",
    "\n",
    "\"\"\"\n",
    "\n",
    "cur.execute(minivan6)\n",
    "print_minivan6 = cur.fetchall()\n",
    "print(print_minivan6)"
   ]
  },
  {
   "cell_type": "code",
   "execution_count": 56,
   "metadata": {},
   "outputs": [
    {
     "name": "stdout",
     "output_type": "stream",
     "text": [
      "[(31264, 2015), (5021, 2016), (8107, 2016), (7505, 2017)]\n"
     ]
    }
   ],
   "source": [
    "conn.rollback()\n",
    "\n",
    "minivanhigh = \"\"\"SELECT DISTINCT total_sales, calendar_year from auto.sales s\n",
    "JOIN auto.car car ON car.car_ID = s.car_ID\n",
    "JOIN auto.brand b ON car.brand_id = b.brandid\n",
    "JOIN auto.model mo ON car.model_id = mo.modelid\n",
    "JOIN auto.type ty ON car.type_id = ty.typeid\n",
    "WHERE b.make LIKE 'CADILLAC'\n",
    "AND mo.model LIKE 'ESCALADE'\n",
    "AND ty.model_type LIKE 'N/A'\n",
    "ORDER BY calendar_year ASC;\"\"\"\n",
    "\n",
    "cur.execute(minivanhigh)\n",
    "print_minivanhigh = cur.fetchall()\n",
    "print(print_minivanhigh)"
   ]
  },
  {
   "cell_type": "code",
   "execution_count": 57,
   "metadata": {},
   "outputs": [
    {
     "name": "stdout",
     "output_type": "stream",
     "text": [
      "[(127572, 2013), (146127, 2014), (142815, 2015), (38673, 2016), (46642, 2017)]\n"
     ]
    }
   ],
   "source": [
    "conn.rollback()\n",
    "\n",
    "minivanlow = \"\"\"SELECT DISTINCT total_sales, calendar_year from auto.sales s\n",
    "JOIN auto.car car ON car.car_ID = s.car_ID\n",
    "JOIN auto.brand b ON car.brand_id = b.brandid\n",
    "JOIN auto.model mo ON car.model_id = mo.modelid\n",
    "JOIN auto.type ty ON car.type_id = ty.typeid\n",
    "WHERE b.make LIKE 'TOYOTA'\n",
    "AND mo.model LIKE 'HIGHLANDER'\n",
    "AND ty.model_type LIKE 'N/A'\n",
    "ORDER BY calendar_year ASC;\"\"\"\n",
    "\n",
    "cur.execute(minivanlow)\n",
    "print_minivanlow = cur.fetchall()\n",
    "print(print_minivanlow)"
   ]
  },
  {
   "cell_type": "markdown",
   "metadata": {},
   "source": [
    "## Segment 7: Midsize Car"
   ]
  },
  {
   "cell_type": "code",
   "execution_count": 58,
   "metadata": {},
   "outputs": [
    {
     "name": "stdout",
     "output_type": "stream",
     "text": [
      "[('GASOLINE', 'CHEVROLET', 'COLORADO', 'N/A', 15, 22358, 2017), ('GASOLINE', 'NISSAN', 'NV200', 'N/A', 25, 4495, 2017)]\n"
     ]
    }
   ],
   "source": [
    "conn.rollback()\n",
    "\n",
    "midszcr7 = \"\"\"(SELECT * FROM (SELECT f.fuel, b.make, mo.model, ty.model_type, CAST(avg(fc.fuel_economy) AS INTEGER) AS fuel_economy, s.total_sales, fc.calendar_year  FROM auto.car car\n",
    "JOIN auto.sales s ON car.car_ID = s.car_ID\n",
    "JOIN auto.fuel_consumption fc ON car.car_ID = fc.car_ID\n",
    "JOIN auto.brand b ON car.brand_id = b.brandid\n",
    "JOIN auto.model mo ON car.model_id = mo.modelid\n",
    "JOIN auto.type ty ON car.type_id = ty.typeid\n",
    "JOIN auto.fuel f ON car.fuel_id = f.fuelid\n",
    "WHERE car.segment_ID = 7 /* segment_ID 7 = midsize car */\n",
    "AND fc.calendar_year = s.calendar_year\n",
    "AND fc.calendar_year = 2017\n",
    "AND f.fuel NOT LIKE 'ELECTRICITY'\n",
    "AND f.fuel NOT LIKE 'GASOLINE/ELECTRICTY'\n",
    "AND f.fuel NOT LIKE 'GASOLINE/ELECTRICITY'\n",
    "AND f.fuel NOT LIKE 'HYDROGEN'\n",
    "GROUP BY f.fuel, b.make, mo.model, ty.model_type, s.total_sales, fc.calendar_year\n",
    "ORDER BY s.total_sales DESC\n",
    "LIMIT 10) AS Top10 \n",
    "ORDER BY fuel_economy DESC\n",
    "LIMIT 1)\n",
    "\n",
    "UNION\n",
    "\n",
    "(SELECT * FROM (SELECT f.fuel, b.make, mo.model, ty.model_type, CAST(avg(fc.fuel_economy) AS INTEGER) AS fuel_economy, s.total_sales, fc.calendar_year  FROM auto.car car\n",
    "JOIN auto.sales s ON car.car_ID = s.car_ID\n",
    "JOIN auto.fuel_consumption fc ON car.car_ID = fc.car_ID\n",
    "JOIN auto.brand b ON car.brand_id = b.brandid\n",
    "JOIN auto.model mo ON car.model_id = mo.modelid\n",
    "JOIN auto.type ty ON car.type_id = ty.typeid\n",
    "JOIN auto.fuel f ON car.fuel_id = f.fuelid\n",
    "WHERE car.segment_ID = 7 /* segment_ID 7 = midsize car */\n",
    "AND fc.calendar_year = s.calendar_year\n",
    "AND fc.calendar_year = 2017\n",
    "AND f.fuel NOT LIKE 'ELECTRICITY'\n",
    "AND f.fuel NOT LIKE 'GASOLINE/ELECTRICTY'\n",
    "AND f.fuel NOT LIKE 'GASOLINE/ELECTRICITY'\n",
    "AND f.fuel NOT LIKE 'HYDROGEN'\n",
    "GROUP BY f.fuel, b.make, mo.model, ty.model_type, s.total_sales, fc.calendar_year\n",
    "ORDER BY s.total_sales DESC\n",
    "LIMIT 10) AS Top10 \n",
    "ORDER BY fuel_economy ASC \n",
    "LIMIT 1);\n",
    "\n",
    "\"\"\"\n",
    "\n",
    "cur.execute(midszcr7)\n",
    "print_midszcr7 = cur.fetchall()\n",
    "print(print_midszcr7)"
   ]
  },
  {
   "cell_type": "code",
   "execution_count": 69,
   "metadata": {},
   "outputs": [
    {
     "name": "stdout",
     "output_type": "stream",
     "text": [
      "[(3412, 2013), (8003, 2014), (76521, 2015), (22620, 2016), (22358, 2017)]\n"
     ]
    }
   ],
   "source": [
    "conn.rollback()\n",
    "\n",
    "midszcrhigh = \"\"\"SELECT DISTINCT total_sales, calendar_year from auto.sales s\n",
    "JOIN auto.car car ON car.car_ID = s.car_ID\n",
    "JOIN auto.brand b ON car.brand_id = b.brandid\n",
    "JOIN auto.model mo ON car.model_id = mo.modelid\n",
    "JOIN auto.type ty ON car.type_id = ty.typeid\n",
    "WHERE b.make LIKE 'CHEVROLET'\n",
    "AND mo.model LIKE 'COLORADO'\n",
    "AND ty.model_type LIKE 'N/A'\n",
    "ORDER BY calendar_year ASC;\"\"\"\n",
    "\n",
    "cur.execute(midszcrhigh)\n",
    "print_midszcrhigh = cur.fetchall()\n",
    "print(print_midszcrhigh)"
   ]
  },
  {
   "cell_type": "code",
   "execution_count": 71,
   "metadata": {},
   "outputs": [
    {
     "name": "stdout",
     "output_type": "stream",
     "text": [
      "[(4619, 2013), (13385, 2014), (15536, 2015), (5352, 2016), (4495, 2017)]\n"
     ]
    }
   ],
   "source": [
    "conn.rollback()\n",
    "\n",
    "midszcrlow = \"\"\"SELECT DISTINCT total_sales, calendar_year from auto.sales s\n",
    "JOIN auto.car car ON car.car_ID = s.car_ID\n",
    "JOIN auto.brand b ON car.brand_id = b.brandid\n",
    "JOIN auto.model mo ON car.model_id = mo.modelid\n",
    "JOIN auto.type ty ON car.type_id = ty.typeid\n",
    "WHERE b.make LIKE 'NISSAN'\n",
    "AND mo.model LIKE 'NV200'\n",
    "AND ty.model_type LIKE 'N/A'\n",
    "ORDER BY calendar_year ASC;\"\"\"\n",
    "\n",
    "cur.execute(midszcrlow)\n",
    "print_midszcrlow = cur.fetchall()\n",
    "print(print_midszcrlow)"
   ]
  },
  {
   "cell_type": "markdown",
   "metadata": {},
   "source": [
    "## Segment 8: Small SUV"
   ]
  },
  {
   "cell_type": "code",
   "execution_count": 62,
   "metadata": {},
   "outputs": [
    {
     "name": "stdout",
     "output_type": "stream",
     "text": [
      "[('GASOLINE', 'HONDA', 'CR-V', 'N/A', 29, 94057, 2017), ('GASOLINE', 'JEEP', 'WRANGLER', 'N/A', 18, 41311, 2017)]\n"
     ]
    }
   ],
   "source": [
    "conn.rollback()\n",
    "\n",
    "smsuv8 = \"\"\"(SELECT * FROM (SELECT f.fuel, b.make, mo.model, ty.model_type, CAST(avg(fc.fuel_economy) AS INTEGER) AS fuel_economy, s.total_sales, fc.calendar_year  FROM auto.car car\n",
    "JOIN auto.sales s ON car.car_ID = s.car_ID\n",
    "JOIN auto.fuel_consumption fc ON car.car_ID = fc.car_ID\n",
    "JOIN auto.brand b ON car.brand_id = b.brandid\n",
    "JOIN auto.model mo ON car.model_id = mo.modelid\n",
    "JOIN auto.type ty ON car.type_id = ty.typeid\n",
    "JOIN auto.fuel f ON car.fuel_id = f.fuelid\n",
    "WHERE car.segment_ID = 8 /* segment_ID 8 = small suv */\n",
    "AND fc.calendar_year = s.calendar_year\n",
    "AND fc.calendar_year = 2017\n",
    "AND f.fuel NOT LIKE 'ELECTRICITY'\n",
    "AND f.fuel NOT LIKE 'GASOLINE/ELECTRICTY'\n",
    "AND f.fuel NOT LIKE 'GASOLINE/ELECTRICITY'\n",
    "AND f.fuel NOT LIKE 'HYDROGEN'\n",
    "GROUP BY f.fuel, b.make, mo.model, ty.model_type, s.total_sales, fc.calendar_year\n",
    "ORDER BY s.total_sales DESC\n",
    "LIMIT 10) AS Top10 \n",
    "ORDER BY fuel_economy DESC\n",
    "LIMIT 1)\n",
    "\n",
    "UNION\n",
    "\n",
    "(SELECT * FROM (SELECT f.fuel, b.make, mo.model, ty.model_type, CAST(avg(fc.fuel_economy) AS INTEGER) AS fuel_economy, s.total_sales, fc.calendar_year  FROM auto.car car\n",
    "JOIN auto.sales s ON car.car_ID = s.car_ID\n",
    "JOIN auto.fuel_consumption fc ON car.car_ID = fc.car_ID\n",
    "JOIN auto.brand b ON car.brand_id = b.brandid\n",
    "JOIN auto.model mo ON car.model_id = mo.modelid\n",
    "JOIN auto.type ty ON car.type_id = ty.typeid\n",
    "JOIN auto.fuel f ON car.fuel_id = f.fuelid\n",
    "WHERE car.segment_ID = 8 /* segment_ID 8 = small suv */\n",
    "AND fc.calendar_year = s.calendar_year\n",
    "AND fc.calendar_year = 2017\n",
    "AND f.fuel NOT LIKE 'ELECTRICITY'\n",
    "AND f.fuel NOT LIKE 'GASOLINE/ELECTRICTY'\n",
    "AND f.fuel NOT LIKE 'GASOLINE/ELECTRICITY'\n",
    "AND f.fuel NOT LIKE 'HYDROGEN'\n",
    "GROUP BY f.fuel, b.make, mo.model, ty.model_type, s.total_sales, fc.calendar_year\n",
    "ORDER BY s.total_sales DESC\n",
    "LIMIT 10) AS Top10 \n",
    "ORDER BY fuel_economy ASC \n",
    "LIMIT 1);\n",
    "\n",
    "\"\"\"\n",
    "\n",
    "cur.execute(smsuv8)\n",
    "print_smsuv8 = cur.fetchall()\n",
    "print(print_smsuv8)"
   ]
  },
  {
   "cell_type": "code",
   "execution_count": 63,
   "metadata": {},
   "outputs": [
    {
     "name": "stdout",
     "output_type": "stream",
     "text": [
      "[(303904, 2013), (335019, 2014), (314462, 2015), (71188, 2016), (94057, 2017)]\n"
     ]
    }
   ],
   "source": [
    "conn.rollback()\n",
    "\n",
    "smsuvhigh = \"\"\"SELECT DISTINCT total_sales, calendar_year from auto.sales s\n",
    "JOIN auto.car car ON car.car_ID = s.car_ID\n",
    "JOIN auto.brand b ON car.brand_id = b.brandid\n",
    "JOIN auto.model mo ON car.model_id = mo.modelid\n",
    "JOIN auto.type ty ON car.type_id = ty.typeid\n",
    "WHERE b.make LIKE 'HONDA'\n",
    "AND mo.model LIKE 'CR-V'\n",
    "AND ty.model_type LIKE 'N/A'\n",
    "ORDER BY calendar_year ASC;\"\"\"\n",
    "\n",
    "cur.execute(smsuvhigh)\n",
    "print_smsuvhigh = cur.fetchall()\n",
    "print(print_smsuvhigh)"
   ]
  },
  {
   "cell_type": "code",
   "execution_count": 65,
   "metadata": {},
   "outputs": [
    {
     "name": "stdout",
     "output_type": "stream",
     "text": [
      "[(155502, 2013), (175328, 2014), (187111, 2015), (41922, 2016), (41311, 2017)]\n"
     ]
    }
   ],
   "source": [
    "conn.rollback()\n",
    "\n",
    "smsuvlow = \"\"\"SELECT DISTINCT total_sales, calendar_year from auto.sales s\n",
    "JOIN auto.car car ON car.car_ID = s.car_ID\n",
    "JOIN auto.brand b ON car.brand_id = b.brandid\n",
    "JOIN auto.model mo ON car.model_id = mo.modelid\n",
    "JOIN auto.type ty ON car.type_id = ty.typeid\n",
    "WHERE b.make LIKE 'JEEP'\n",
    "AND mo.model LIKE 'WRANGLER'\n",
    "AND ty.model_type LIKE 'N/A'\n",
    "ORDER BY calendar_year ASC;\"\"\"\n",
    "\n",
    "cur.execute(smsuvlow)\n",
    "print_smsuvlow = cur.fetchall()\n",
    "print(print_smsuvlow)"
   ]
  },
  {
   "cell_type": "markdown",
   "metadata": {},
   "source": [
    "## Segment 9: Small Car"
   ]
  },
  {
   "cell_type": "code",
   "execution_count": 66,
   "metadata": {},
   "outputs": [
    {
     "name": "stdout",
     "output_type": "stream",
     "text": [
      "[('DIESEL', 'CHEVROLET', 'CRUZE', 'N/A', 37, 53923, 2017), ('GASOLINE', 'CHEVROLET', 'CAMARO', 'N/A', 20, 15298, 2017)]\n"
     ]
    }
   ],
   "source": [
    "conn.rollback()\n",
    "\n",
    "smcar9 = \"\"\"(SELECT * FROM (SELECT f.fuel, b.make, mo.model, ty.model_type, CAST(avg(fc.fuel_economy) AS INTEGER) AS fuel_economy, s.total_sales, fc.calendar_year  FROM auto.car car\n",
    "JOIN auto.sales s ON car.car_ID = s.car_ID\n",
    "JOIN auto.fuel_consumption fc ON car.car_ID = fc.car_ID\n",
    "JOIN auto.brand b ON car.brand_id = b.brandid\n",
    "JOIN auto.model mo ON car.model_id = mo.modelid\n",
    "JOIN auto.type ty ON car.type_id = ty.typeid\n",
    "JOIN auto.fuel f ON car.fuel_id = f.fuelid\n",
    "WHERE car.segment_ID = 9 /* segment_ID 9 = small suv */\n",
    "AND fc.calendar_year = s.calendar_year\n",
    "AND fc.calendar_year = 2017\n",
    "AND f.fuel NOT LIKE 'ELECTRICITY'\n",
    "AND f.fuel NOT LIKE 'GASOLINE/ELECTRICTY'\n",
    "AND f.fuel NOT LIKE 'GASOLINE/ELECTRICITY'\n",
    "AND f.fuel NOT LIKE 'HYDROGEN'\n",
    "GROUP BY f.fuel, b.make, mo.model, ty.model_type, s.total_sales, fc.calendar_year\n",
    "ORDER BY s.total_sales DESC\n",
    "LIMIT 10) AS Top10 \n",
    "ORDER BY fuel_economy DESC\n",
    "LIMIT 1)\n",
    "\n",
    "UNION\n",
    "\n",
    "(SELECT * FROM (SELECT f.fuel, b.make, mo.model, ty.model_type, CAST(avg(fc.fuel_economy) AS INTEGER) AS fuel_economy, s.total_sales, fc.calendar_year  FROM auto.car car\n",
    "JOIN auto.sales s ON car.car_ID = s.car_ID\n",
    "JOIN auto.fuel_consumption fc ON car.car_ID = fc.car_ID\n",
    "JOIN auto.brand b ON car.brand_id = b.brandid\n",
    "JOIN auto.model mo ON car.model_id = mo.modelid\n",
    "JOIN auto.type ty ON car.type_id = ty.typeid\n",
    "JOIN auto.fuel f ON car.fuel_id = f.fuelid\n",
    "WHERE car.segment_ID = 9 /* segment_ID 9 = small suv */\n",
    "AND fc.calendar_year = s.calendar_year\n",
    "AND fc.calendar_year = 2017\n",
    "AND f.fuel NOT LIKE 'ELECTRICITY'\n",
    "AND f.fuel NOT LIKE 'GASOLINE/ELECTRICTY'\n",
    "AND f.fuel NOT LIKE 'GASOLINE/ELECTRICITY'\n",
    "AND f.fuel NOT LIKE 'HYDROGEN'\n",
    "GROUP BY f.fuel, b.make, mo.model, ty.model_type, s.total_sales, fc.calendar_year\n",
    "ORDER BY s.total_sales DESC\n",
    "LIMIT 10) AS Top10 \n",
    "ORDER BY fuel_economy ASC \n",
    "LIMIT 1);\n",
    "\n",
    "\"\"\"\n",
    "\n",
    "cur.execute(smcar9)\n",
    "print_smcar9 = cur.fetchall()\n",
    "print(print_smcar9)"
   ]
  },
  {
   "cell_type": "code",
   "execution_count": 67,
   "metadata": {},
   "outputs": [
    {
     "name": "stdout",
     "output_type": "stream",
     "text": [
      "[(248224, 2013), (273060, 2014), (209753, 2015), (37241, 2016), (53923, 2017)]\n"
     ]
    }
   ],
   "source": [
    "conn.rollback()\n",
    "\n",
    "smcarhigh = \"\"\"SELECT DISTINCT total_sales, calendar_year from auto.sales s\n",
    "JOIN auto.car car ON car.car_ID = s.car_ID\n",
    "JOIN auto.brand b ON car.brand_id = b.brandid\n",
    "JOIN auto.model mo ON car.model_id = mo.modelid\n",
    "JOIN auto.type ty ON car.type_id = ty.typeid\n",
    "WHERE b.make LIKE 'CHEVROLET'\n",
    "AND mo.model LIKE 'CRUZE'\n",
    "AND ty.model_type LIKE 'N/A'\n",
    "ORDER BY calendar_year ASC;\"\"\"\n",
    "\n",
    "cur.execute(smcarhigh)\n",
    "print_smcarhigh = cur.fetchall()\n",
    "print(print_smcarhigh)"
   ]
  },
  {
   "cell_type": "code",
   "execution_count": 68,
   "metadata": {},
   "outputs": [
    {
     "name": "stdout",
     "output_type": "stream",
     "text": [
      "[(80567, 2013), (86297, 2014), (72136, 2015), (18581, 2016), (15298, 2017)]\n"
     ]
    }
   ],
   "source": [
    "conn.rollback()\n",
    "\n",
    "smcarlow = \"\"\"SELECT DISTINCT total_sales, calendar_year from auto.sales s\n",
    "JOIN auto.car car ON car.car_ID = s.car_ID\n",
    "JOIN auto.brand b ON car.brand_id = b.brandid\n",
    "JOIN auto.model mo ON car.model_id = mo.modelid\n",
    "JOIN auto.type ty ON car.type_id = ty.typeid\n",
    "WHERE b.make LIKE 'CHEVROLET'\n",
    "AND mo.model LIKE 'CAMARO'\n",
    "AND ty.model_type LIKE 'N/A'\n",
    "ORDER BY calendar_year ASC;\"\"\"\n",
    "\n",
    "cur.execute(smcarlow)\n",
    "print_smcarlow = cur.fetchall()\n",
    "print(print_smcarlow)"
   ]
  },
  {
   "cell_type": "markdown",
   "metadata": {},
   "source": [
    "## Segment 10: Standard SUV"
   ]
  },
  {
   "cell_type": "code",
   "execution_count": 73,
   "metadata": {},
   "outputs": [
    {
     "name": "stdout",
     "output_type": "stream",
     "text": [
      "[('DIESEL', 'CHEVROLET', 'COLORADO', 'N/A', 24, 22358, 2017), ('GASOLINE', 'TOYOTA', 'TUNDRA', 'N/A', 16, 23220, 2017)]\n"
     ]
    }
   ],
   "source": [
    "conn.rollback()\n",
    "\n",
    "stsuv10 = \"\"\"(SELECT * FROM (SELECT f.fuel, b.make, mo.model, ty.model_type, CAST(avg(fc.fuel_economy) AS INTEGER) AS fuel_economy, s.total_sales, fc.calendar_year  FROM auto.car car\n",
    "JOIN auto.sales s ON car.car_ID = s.car_ID\n",
    "JOIN auto.fuel_consumption fc ON car.car_ID = fc.car_ID\n",
    "JOIN auto.brand b ON car.brand_id = b.brandid\n",
    "JOIN auto.model mo ON car.model_id = mo.modelid\n",
    "JOIN auto.type ty ON car.type_id = ty.typeid\n",
    "JOIN auto.fuel f ON car.fuel_id = f.fuelid\n",
    "WHERE car.segment_ID = 10 /* segment_ID 10 = small suv */\n",
    "AND fc.calendar_year = s.calendar_year\n",
    "AND fc.calendar_year = 2017\n",
    "AND f.fuel NOT LIKE 'ELECTRICITY'\n",
    "AND f.fuel NOT LIKE 'GASOLINE/ELECTRICTY'\n",
    "AND f.fuel NOT LIKE 'GASOLINE/ELECTRICITY'\n",
    "AND f.fuel NOT LIKE 'HYDROGEN'\n",
    "GROUP BY f.fuel, b.make, mo.model, ty.model_type, s.total_sales, fc.calendar_year\n",
    "ORDER BY s.total_sales DESC\n",
    "LIMIT 10) AS Top10 \n",
    "ORDER BY fuel_economy DESC\n",
    "LIMIT 1)\n",
    "\n",
    "UNION\n",
    "\n",
    "(SELECT * FROM (SELECT f.fuel, b.make, mo.model, ty.model_type, CAST(avg(fc.fuel_economy) AS INTEGER) AS fuel_economy, s.total_sales, fc.calendar_year  FROM auto.car car\n",
    "JOIN auto.sales s ON car.car_ID = s.car_ID\n",
    "JOIN auto.fuel_consumption fc ON car.car_ID = fc.car_ID\n",
    "JOIN auto.brand b ON car.brand_id = b.brandid\n",
    "JOIN auto.model mo ON car.model_id = mo.modelid\n",
    "JOIN auto.type ty ON car.type_id = ty.typeid\n",
    "JOIN auto.fuel f ON car.fuel_id = f.fuelid\n",
    "WHERE car.segment_ID = 10 /* segment_ID 10 = small suv */\n",
    "AND fc.calendar_year = s.calendar_year\n",
    "AND fc.calendar_year = 2017\n",
    "AND f.fuel NOT LIKE 'ELECTRICITY'\n",
    "AND f.fuel NOT LIKE 'GASOLINE/ELECTRICTY'\n",
    "AND f.fuel NOT LIKE 'GASOLINE/ELECTRICITY'\n",
    "AND f.fuel NOT LIKE 'HYDROGEN'\n",
    "GROUP BY f.fuel, b.make, mo.model, ty.model_type, s.total_sales, fc.calendar_year\n",
    "ORDER BY s.total_sales DESC\n",
    "LIMIT 10) AS Top10 \n",
    "ORDER BY fuel_economy ASC \n",
    "LIMIT 1);\n",
    "\n",
    "\"\"\"\n",
    "\n",
    "cur.execute(stsuv10)\n",
    "print_stsuv10 = cur.fetchall()\n",
    "print(print_stsuv10)"
   ]
  },
  {
   "cell_type": "code",
   "execution_count": 76,
   "metadata": {},
   "outputs": [
    {
     "name": "stdout",
     "output_type": "stream",
     "text": [
      "[(3412, 2013), (8003, 2014), (76521, 2015), (22620, 2016), (22358, 2017)]\n"
     ]
    }
   ],
   "source": [
    "conn.rollback()\n",
    "\n",
    "stsuvhigh = \"\"\"SELECT DISTINCT total_sales, calendar_year from auto.sales s\n",
    "JOIN auto.car car ON car.car_ID = s.car_ID\n",
    "JOIN auto.brand b ON car.brand_id = b.brandid\n",
    "JOIN auto.model mo ON car.model_id = mo.modelid\n",
    "JOIN auto.type ty ON car.type_id = ty.typeid\n",
    "WHERE b.make LIKE 'CHEVROLET'\n",
    "AND mo.model LIKE 'COLORADO'\n",
    "AND ty.model_type LIKE 'N/A'\n",
    "ORDER BY calendar_year ASC;\"\"\"\n",
    "\n",
    "cur.execute(stsuvhigh)\n",
    "print_stsuvhigh = cur.fetchall()\n",
    "print(print_stsuvhigh)"
   ]
  },
  {
   "cell_type": "code",
   "execution_count": 77,
   "metadata": {},
   "outputs": [
    {
     "name": "stdout",
     "output_type": "stream",
     "text": [
      "[(112732, 2013), (118493, 2014), (107730, 2015), (25535, 2016), (23220, 2017)]\n"
     ]
    }
   ],
   "source": [
    "conn.rollback()\n",
    "\n",
    "stsuvlow = \"\"\"SELECT DISTINCT total_sales, calendar_year from auto.sales s\n",
    "JOIN auto.car car ON car.car_ID = s.car_ID\n",
    "JOIN auto.brand b ON car.brand_id = b.brandid\n",
    "JOIN auto.model mo ON car.model_id = mo.modelid\n",
    "JOIN auto.type ty ON car.type_id = ty.typeid\n",
    "WHERE b.make LIKE 'TOYOTA'\n",
    "AND mo.model LIKE 'TUNDRA'\n",
    "AND ty.model_type LIKE 'N/A'\n",
    "ORDER BY calendar_year ASC;\"\"\"\n",
    "\n",
    "cur.execute(stsuvlow)\n",
    "print_stsuvlow = cur.fetchall()\n",
    "print(print_stsuvlow)"
   ]
  },
  {
   "cell_type": "markdown",
   "metadata": {},
   "source": [
    "### 5. Influence of fuel price on car with highest and lowest fuel economy in the top 10 sales per segment"
   ]
  },
  {
   "cell_type": "code",
   "execution_count": null,
   "metadata": {},
   "outputs": [],
   "source": [
    "# For segment 9 lowest fuel economy (Chevrolet Camaro N/A)\n",
    "SELECT DISTINCT total_sales, calendar_year from auto.sales s\n",
    "JOIN auto.car car ON car.car_ID = s.car_ID\n",
    "JOIN auto.brand b ON car.brand_id = b.brandid\n",
    "JOIN auto.model mo ON car.model_id = mo.modelid\n",
    "JOIN auto.type ty ON car.type_id = ty.typeid\n",
    "WHERE b.make LIKE 'CHEVROLET'\n",
    "AND mo.model LIKE 'CAMARO'\n",
    "AND ty.model_type LIKE 'N/A'\n",
    "ORDER BY calendar_year ASC;"
   ]
  },
  {
   "cell_type": "code",
   "execution_count": null,
   "metadata": {},
   "outputs": [],
   "source": [
    "# For segment 9 highest fuel economy (Chevrolet Cruze N/A)\n"
   ]
  },
  {
   "cell_type": "markdown",
   "metadata": {},
   "source": [
    "# Group Contribution"
   ]
  }
 ],
 "metadata": {
  "kernelspec": {
   "display_name": "Python 3",
   "language": "python",
   "name": "python3"
  },
  "language_info": {
   "codemirror_mode": {
    "name": "ipython",
    "version": 3
   },
   "file_extension": ".py",
   "mimetype": "text/x-python",
   "name": "python",
   "nbconvert_exporter": "python",
   "pygments_lexer": "ipython3",
   "version": "3.6.5"
  }
 },
 "nbformat": 4,
 "nbformat_minor": 2
}
